{
 "cells": [
  {
   "cell_type": "markdown",
   "metadata": {},
   "source": [
    "# MNIST Handwriten Digits Classifier"
   ]
  },
  {
   "cell_type": "code",
   "execution_count": 18,
   "metadata": {},
   "outputs": [],
   "source": [
    "import tensorflow as tf\n",
    "import numpy as np\n",
    "import matplotlib.pyplot as plt"
   ]
  },
  {
   "cell_type": "code",
   "execution_count": 2,
   "metadata": {},
   "outputs": [
    {
     "name": "stdout",
     "output_type": "stream",
     "text": [
      "Extracting MNIST_data/train-images-idx3-ubyte.gz\n",
      "Extracting MNIST_data/train-labels-idx1-ubyte.gz\n",
      "Extracting MNIST_data/t10k-images-idx3-ubyte.gz\n",
      "Extracting MNIST_data/t10k-labels-idx1-ubyte.gz\n"
     ]
    }
   ],
   "source": [
    "from tensorflow.examples.tutorials.mnist import input_data\n",
    "mnist = input_data.read_data_sets('MNIST_data', one_hot=True)"
   ]
  },
  {
   "cell_type": "code",
   "execution_count": 3,
   "metadata": {},
   "outputs": [],
   "source": [
    "image_size = 28\n",
    "num_classes = 10"
   ]
  },
  {
   "cell_type": "code",
   "execution_count": 4,
   "metadata": {},
   "outputs": [],
   "source": [
    "batch_size = 100\n",
    "learning_rate = 0.2\n",
    "dropout_rate = 0.4\n",
    "\n",
    "epochs = 2\n",
    "iterations = mnist.train.num_examples//batch_size"
   ]
  },
  {
   "cell_type": "code",
   "execution_count": 5,
   "metadata": {},
   "outputs": [],
   "source": [
    "tf.reset_default_graph()"
   ]
  },
  {
   "cell_type": "code",
   "execution_count": 6,
   "metadata": {},
   "outputs": [],
   "source": [
    "X_placeholder = tf.placeholder(shape=[None, image_size**2], dtype=tf.float32, name='X_placeholder')\n",
    "Y_placeholder = tf.placeholder(shape=[None, num_classes], dtype=tf.int64, name='Y_placeholder')\n",
    "\n",
    "# whether we are training or evaluating\n",
    "# so we can apply dropout or not\n",
    "is_training = tf.placeholder_with_default(input=False, shape=[], name='is_training')\n",
    "\n",
    "# reshape the input image into tensorflows required format (N,H,W,C)\n",
    "X_image = tf.reshape(X_placeholder, [-1,image_size,image_size,1])"
   ]
  },
  {
   "cell_type": "code",
   "execution_count": 7,
   "metadata": {},
   "outputs": [],
   "source": [
    "# convolutional layer 1\n",
    "conv1 = tf.layers.conv2d(inputs=X_image,\n",
    "                         filters=8,\n",
    "                         kernel_size=[5, 5],\n",
    "                         activation=tf.nn.relu)\n",
    "\n",
    "# max pool conv1\n",
    "pool1 = tf.layers.max_pooling2d(inputs=conv1,\n",
    "                                pool_size=[2, 2],\n",
    "                                strides=2)"
   ]
  },
  {
   "cell_type": "code",
   "execution_count": 8,
   "metadata": {},
   "outputs": [],
   "source": [
    "# convolutional layer 2\n",
    "conv2 = tf.layers.conv2d(inputs=pool1,\n",
    "                         filters=16,\n",
    "                         kernel_size=[5, 5],\n",
    "                         activation=tf.nn.relu)\n",
    "\n",
    "# max pool conv2\n",
    "pool2 = tf.layers.max_pooling2d(inputs=conv2,\n",
    "                                pool_size=[2, 2],\n",
    "                                strides=2)"
   ]
  },
  {
   "cell_type": "code",
   "execution_count": 9,
   "metadata": {},
   "outputs": [],
   "source": [
    "# flatten for fc layers\n",
    "pool2_flat = tf.reshape(pool2, [-1, 4 * 4 * 16])\n",
    "\n",
    "# fc layer 1\n",
    "dense = tf.layers.dense(inputs=pool2_flat,\n",
    "                        units=256,\n",
    "                        activation=tf.nn.relu)\n",
    "\n",
    "# apply dropout to fc layer 1\n",
    "dropout = tf.layers.dropout(inputs=dense,\n",
    "                            rate=dropout_rate,\n",
    "                            training=is_training)"
   ]
  },
  {
   "cell_type": "code",
   "execution_count": 10,
   "metadata": {},
   "outputs": [],
   "source": [
    "# output layer\n",
    "Y_prediction = tf.layers.dense(inputs=dropout,\n",
    "                               units=num_classes)"
   ]
  },
  {
   "cell_type": "code",
   "execution_count": 11,
   "metadata": {},
   "outputs": [],
   "source": [
    "# define loss\n",
    "loss = tf.reduce_mean(tf.nn.softmax_cross_entropy_with_logits_v2(labels=Y_placeholder,\n",
    "                                                                 logits=Y_prediction,\n",
    "                                                                 name='loss'))\n",
    "\n",
    "# define optimizer and training step\n",
    "train_step = tf.train.GradientDescentOptimizer(learning_rate).minimize(loss)"
   ]
  },
  {
   "cell_type": "code",
   "execution_count": 12,
   "metadata": {},
   "outputs": [],
   "source": [
    "# compute accuracy\n",
    "correct_prediction = tf.equal(tf.argmax(Y_prediction, 1), tf.argmax(Y_placeholder, 1))\n",
    "accuracy = tf.reduce_mean(tf.cast(correct_prediction, tf.float32))"
   ]
  },
  {
   "cell_type": "code",
   "execution_count": 13,
   "metadata": {},
   "outputs": [],
   "source": [
    "# create session\n",
    "sess = tf.InteractiveSession()\n",
    "# initialize variables\n",
    "sess.run(tf.global_variables_initializer())"
   ]
  },
  {
   "cell_type": "code",
   "execution_count": 14,
   "metadata": {},
   "outputs": [
    {
     "name": "stdout",
     "output_type": "stream",
     "text": [
      "New epoch 1/2\n",
      "step 110/550 loss 0.37917936 accuracy 92.38%\n",
      "step 220/550 loss 0.17577499 accuracy 95.42%\n",
      "step 330/550 loss 0.22623739 accuracy 95.94%\n",
      "step 440/550 loss 0.37861234 accuracy 97.26%\n",
      "step 550/550 loss 0.09007237 accuracy 97.72%\n",
      "New epoch 2/2\n",
      "step 110/550 loss 0.16309275 accuracy 97.66%\n",
      "step 220/550 loss 0.090481795 accuracy 98.08%\n",
      "step 330/550 loss 0.07680937 accuracy 98.22%\n",
      "step 440/550 loss 0.12234435 accuracy 98.1%\n",
      "step 550/550 loss 0.09742079 accuracy 98.48%\n"
     ]
    }
   ],
   "source": [
    "# training\n",
    "\n",
    "losses = np.array([])\n",
    "\n",
    "for epoch in range(epochs):\n",
    "\n",
    "    print 'New epoch', str(epoch+1)+'/'+str(epochs)\n",
    "    \n",
    "    for idx in range(iterations):\n",
    "\n",
    "        batch_xs, batch_ys = mnist.train.next_batch(batch_size, shuffle=True)\n",
    "\n",
    "        _, _loss = sess.run([train_step, loss], \n",
    "                            feed_dict={\n",
    "                                X_placeholder: batch_xs,\n",
    "                                Y_placeholder: batch_ys,\n",
    "                                is_training : True\n",
    "                            })\n",
    "\n",
    "        if (idx+1) % (iterations/5) == 0:\n",
    "\n",
    "            _accuracy = sess.run(accuracy, feed_dict={X_placeholder : mnist.validation.images,\n",
    "                                                      Y_placeholder : mnist.validation.labels,\n",
    "                                                     })\n",
    "            \n",
    "            print 'step', str(idx+1)+'/'+str(iterations), 'loss', _loss, 'accuracy', str(round(100*_accuracy,2))+'%'\n",
    "            \n",
    "        losses = np.append(losses, np.mean(_loss))"
   ]
  },
  {
   "cell_type": "code",
   "execution_count": 15,
   "metadata": {},
   "outputs": [
    {
     "data": {
      "image/png": "[encoded data removed]",
      "text/plain": [
       "<matplotlib.figure.Figure at 0x7f7ca08b3210>"
      ]
     },
     "metadata": {},
     "output_type": "display_data"
    }
   ],
   "source": [
    "# plot training losses\n",
    "\n",
    "fig, ax = plt.subplots(figsize=(6,5))\n",
    "ax.plot(losses)\n",
    "ax.grid(True)"
   ]
  },
  {
   "cell_type": "code",
   "execution_count": 16,
   "metadata": {},
   "outputs": [
    {
     "name": "stdout",
     "output_type": "stream",
     "text": [
      "98.7%\n"
     ]
    }
   ],
   "source": [
    "# get evaluation accuracy\n",
    "_accuracy = sess.run(accuracy, feed_dict={X_placeholder : mnist.test.images,\n",
    "                                          Y_placeholder : mnist.test.labels\n",
    "                                         })\n",
    "\n",
    "print str(round(100*_accuracy,2))+'%'"
   ]
  },
  {
   "cell_type": "code",
   "execution_count": 17,
   "metadata": {},
   "outputs": [
    {
     "name": "stdout",
     "output_type": "stream",
     "text": [
      "prediction: 2 answer: 2\n",
      "0 0.0%\n",
      "1 0.001%\n",
      "2 99.997%\n",
      "3 0.002%\n",
      "4 0.0%\n",
      "5 0.0%\n",
      "6 0.0%\n",
      "7 0.0%\n",
      "8 0.0%\n",
      "9 0.0%\n"
     ]
    },
    {
     "data": {
      "image/png": "[encoded data removed]",
      "text/plain": [
       "<matplotlib.figure.Figure at 0x7f7c9c0260d0>"
      ]
     },
     "metadata": {},
     "output_type": "display_data"
    },
    {
     "name": "stdout",
     "output_type": "stream",
     "text": [
      "prediction: 6 answer: 6\n",
      "0 0.003%\n",
      "1 0.0%\n",
      "2 0.0%\n",
      "3 0.0%\n",
      "4 0.0%\n",
      "5 0.008%\n",
      "6 99.985%\n",
      "7 0.0%\n",
      "8 0.005%\n",
      "9 0.0%\n"
     ]
    },
    {
     "data": {
      "image/png": "[encoded data removed]",
      "text/plain": [
       "<matplotlib.figure.Figure at 0x7f7c8a1b0f90>"
      ]
     },
     "metadata": {},
     "output_type": "display_data"
    }
   ],
   "source": [
    "# test and show test images\n",
    "test_idxs = [1,11]\n",
    "\n",
    "for test_idx in test_idxs:\n",
    "    test_x, test_y = mnist.test.images[test_idx], mnist.test.labels[test_idx]\n",
    "\n",
    "    _prediction = sess.run(Y_prediction, feed_dict={X_placeholder: test_x.reshape(1,-1)})\n",
    "\n",
    "    print 'prediction:', np.argmax(_prediction), 'answer:', np.argmax(test_y)\n",
    "\n",
    "    for i,val in enumerate(_prediction[0]):\n",
    "        print i, str(round(100*np.exp(val)/np.sum(np.exp(_prediction)),3))+'%'\n",
    "\n",
    "    plt.imshow(test_x.reshape(image_size,image_size), cmap='binary')\n",
    "    plt.show()"
   ]
  },
  {
   "cell_type": "code",
   "execution_count": null,
   "metadata": {},
   "outputs": [],
   "source": []
  }
 ],
 "metadata": {
  "kernelspec": {
   "display_name": "Python 2",
   "language": "python",
   "name": "python2"
  },
  "language_info": {
   "codemirror_mode": {
    "name": "ipython",
    "version": 2
   },
   "file_extension": ".py",
   "mimetype": "text/x-python",
   "name": "python",
   "nbconvert_exporter": "python",
   "pygments_lexer": "ipython2",
   "version": "2.7.12"
  }
 },
 "nbformat": 4,
 "nbformat_minor": 2
}
