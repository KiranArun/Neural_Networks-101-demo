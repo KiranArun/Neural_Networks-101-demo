{
  "nbformat": 4,
  "nbformat_minor": 0,
  "metadata": {
    "colab": {
      "name": "Basic_MNIST.ipynb",
      "version": "0.3.2",
      "views": {},
      "default_view": {},
      "provenance": [],
      "collapsed_sections": []
    },
    "kernelspec": {
      "display_name": "Python 3",
      "language": "python",
      "name": "python3"
    }
  },
  "cells": [
    {
      "metadata": {
        "id": "s2YwmCWsKiyK",
        "colab_type": "text"
      },
      "cell_type": "markdown",
      "source": [
        "COPYRIGHT © 2018 Kiran Arun <kironni@gmail.com>"
      ]
    },
    {
      "metadata": {
        "id": "wBwx7thMVEJU",
        "colab_type": "text"
      },
      "cell_type": "markdown",
      "source": [
        "### Setup"
      ]
    },
    {
      "metadata": {
        "id": "2RaDNJFYkOzA",
        "colab_type": "code",
        "colab": {
          "autoexec": {
            "startup": false,
            "wait_interval": 0
          },
          "base_uri": "https://localhost:8080/",
          "height": 163
        },
        "outputId": "b90ac59b-741c-43c1-b10d-e133424b297f",
        "executionInfo": {
          "status": "ok",
          "timestamp": 1530976675837,
          "user_tz": -60,
          "elapsed": 8187,
          "user": {
            "displayName": "Kiran Arun",
            "photoUrl": "//lh4.googleusercontent.com/-8IeZZ41ybbo/AAAAAAAAAAI/AAAAAAAACkI/_LkIlaW8I6g/s50-c-k-no/photo.jpg",
            "userId": "105201401933439284277"
          }
        }
      },
      "cell_type": "code",
      "source": [
        "# install dependencies\n",
        "!rm -r Neural_Networks-101-demo\n",
        "!git clone -b explanations https://github.com/KiranArun/Neural_Networks-101-demo.git\n",
        "!python3 /content/Neural_Networks-101-demo/scripts/setup.py helper_funcs"
      ],
      "execution_count": 1,
      "outputs": [
        {
          "output_type": "stream",
          "text": [
            "rm: cannot remove 'Neural_Networks-101-demo': No such file or directory\n",
            "Cloning into 'Neural_Networks-101-demo'...\n",
            "remote: Counting objects: 383, done.\u001b[K\n",
            "remote: Compressing objects: 100% (92/92), done.\u001b[K\n",
            "remote: Total 383 (delta 40), reused 82 (delta 20), pack-reused 271\u001b[K\n",
            "Receiving objects: 100% (383/383), 9.39 MiB | 14.67 MiB/s, done.\n",
            "Resolving deltas: 100% (163/163), done.\n",
            "Getting helper functions...\n"
          ],
          "name": "stdout"
        }
      ]
    },
    {
      "metadata": {
        "id": "4384DJ_skxW3",
        "colab_type": "text"
      },
      "cell_type": "markdown",
      "source": [
        "# MNIST Handwritten Digits Classifier"
      ]
    },
    {
      "metadata": {
        "id": "CRFq1dEwT8HK",
        "colab_type": "text"
      },
      "cell_type": "markdown",
      "source": [
        "## Overview"
      ]
    },
    {
      "metadata": {
        "id": "oQAM2f_gkxW6",
        "colab_type": "code",
        "colab": {
          "autoexec": {
            "startup": false,
            "wait_interval": 0
          }
        }
      },
      "cell_type": "code",
      "source": [
        "import tensorflow as tf            # import tensorflow, our machine learning library\n",
        "import numpy as np                 # import numpy, our linear algebra library\n",
        "import matplotlib.pyplot as plt    # import matplotlib, our graph plotting library\n",
        "\n",
        "from math import ceil,floor        # import round up and round down functions\n",
        "import helper_funcs as helper"
      ],
      "execution_count": 0,
      "outputs": []
    },
    {
      "metadata": {
        "id": "0LdBjfkvSpsD",
        "colab_type": "text"
      },
      "cell_type": "markdown",
      "source": [
        "## Data"
      ]
    },
    {
      "metadata": {
        "id": "y5nA3LM4kxXA",
        "colab_type": "code",
        "colab": {
          "autoexec": {
            "startup": false,
            "wait_interval": 0
          },
          "base_uri": "https://localhost:8080/",
          "height": 126
        },
        "outputId": "75d5ecdc-6f8a-4e43-e9a0-488cfc7a5151",
        "executionInfo": {
          "status": "ok",
          "timestamp": 1530976684169,
          "user_tz": -60,
          "elapsed": 5636,
          "user": {
            "displayName": "Kiran Arun",
            "photoUrl": "//lh4.googleusercontent.com/-8IeZZ41ybbo/AAAAAAAAAAI/AAAAAAAACkI/_LkIlaW8I6g/s50-c-k-no/photo.jpg",
            "userId": "105201401933439284277"
          }
        }
      },
      "cell_type": "code",
      "source": [
        "# this is the directory where we will keep and external files, eg. data, logs\n",
        "model_root_dir = '/content/'\n",
        "\n",
        "# get data\n",
        "mnist = helper.MNIST_data(model_root_dir+'MNIST_data/')"
      ],
      "execution_count": 3,
      "outputs": [
        {
          "output_type": "stream",
          "text": [
            "Downloading train-images-idx3-ubyte.gz...\n",
            "Downloading t10k-images-idx3-ubyte.gz...\n",
            "Downloading train-labels-idx1-ubyte.gz...\n",
            "Downloading t10k-labels-idx1-ubyte.gz...\n",
            "Download complete.\n",
            "Save complete.\n"
          ],
          "name": "stdout"
        }
      ]
    },
    {
      "metadata": {
        "id": "TYrM5kF6kxXH",
        "colab_type": "code",
        "colab": {
          "autoexec": {
            "startup": false,
            "wait_interval": 0
          }
        }
      },
      "cell_type": "code",
      "source": [
        "image_dims = (28,28)  # the image dimensions\n",
        "input_size = 28**2    # the unstacked image size\n",
        "num_classes = 10      # the number of classes to predict"
      ],
      "execution_count": 0,
      "outputs": []
    },
    {
      "metadata": {
        "id": "PHTbwzBISs-m",
        "colab_type": "text"
      },
      "cell_type": "markdown",
      "source": [
        "### Input Data"
      ]
    },
    {
      "metadata": {
        "id": "qcnZUIMhcw8n",
        "colab_type": "code",
        "colab": {
          "autoexec": {
            "startup": false,
            "wait_interval": 0
          },
          "base_uri": "https://localhost:8080/",
          "height": 35
        },
        "outputId": "6268cd7f-6ddb-4a59-d81f-20d4ebf820e2",
        "executionInfo": {
          "status": "ok",
          "timestamp": 1530976685676,
          "user_tz": -60,
          "elapsed": 656,
          "user": {
            "displayName": "Kiran Arun",
            "photoUrl": "//lh4.googleusercontent.com/-8IeZZ41ybbo/AAAAAAAAAAI/AAAAAAAACkI/_LkIlaW8I6g/s50-c-k-no/photo.jpg",
            "userId": "105201401933439284277"
          }
        }
      },
      "cell_type": "code",
      "source": [
        "# this is the shape of our array of training images\n",
        "# input data arrays = mnist.<dataset>.images\n",
        "print('training images array:', mnist.train_images.shape)"
      ],
      "execution_count": 5,
      "outputs": [
        {
          "output_type": "stream",
          "text": [
            "training images array: (55000, 784)\n"
          ],
          "name": "stdout"
        }
      ]
    },
    {
      "metadata": {
        "id": "kFumLIgzSuqh",
        "colab_type": "text"
      },
      "cell_type": "markdown",
      "source": [
        "### Expected Output Data\n"
      ]
    },
    {
      "metadata": {
        "id": "SN7IpGEDedoB",
        "colab_type": "code",
        "colab": {
          "autoexec": {
            "startup": false,
            "wait_interval": 0
          },
          "base_uri": "https://localhost:8080/",
          "height": 35
        },
        "outputId": "195246a7-5c54-4b6c-ff3d-3ec2a99d10c5",
        "executionInfo": {
          "status": "ok",
          "timestamp": 1530976686334,
          "user_tz": -60,
          "elapsed": 474,
          "user": {
            "displayName": "Kiran Arun",
            "photoUrl": "//lh4.googleusercontent.com/-8IeZZ41ybbo/AAAAAAAAAAI/AAAAAAAACkI/_LkIlaW8I6g/s50-c-k-no/photo.jpg",
            "userId": "105201401933439284277"
          }
        }
      },
      "cell_type": "code",
      "source": [
        "# this is the shape of our array of training labels\n",
        "# input data arrays = mnist.<dataset>.labels\n",
        "print('training images array:', mnist.train_labels.shape)"
      ],
      "execution_count": 6,
      "outputs": [
        {
          "output_type": "stream",
          "text": [
            "training images array: (55000, 10)\n"
          ],
          "name": "stdout"
        }
      ]
    },
    {
      "metadata": {
        "id": "sR2iJ3EWS2WU",
        "colab_type": "text"
      },
      "cell_type": "markdown",
      "source": [
        "### Data Sets"
      ]
    },
    {
      "metadata": {
        "id": "E3p4h74ZektW",
        "colab_type": "code",
        "colab": {
          "autoexec": {
            "startup": false,
            "wait_interval": 0
          },
          "base_uri": "https://localhost:8080/",
          "height": 72
        },
        "outputId": "8408e026-a310-486a-fd5b-99ab614e934d",
        "executionInfo": {
          "status": "ok",
          "timestamp": 1530976687129,
          "user_tz": -60,
          "elapsed": 701,
          "user": {
            "displayName": "Kiran Arun",
            "photoUrl": "//lh4.googleusercontent.com/-8IeZZ41ybbo/AAAAAAAAAAI/AAAAAAAACkI/_LkIlaW8I6g/s50-c-k-no/photo.jpg",
            "userId": "105201401933439284277"
          }
        }
      },
      "cell_type": "code",
      "source": [
        "# show data sets\n",
        "print('training data shape', mnist.train_images.shape)\n",
        "print('validation data shape', mnist.validation_images.shape)\n",
        "print('testing data shape', mnist.test_images.shape)"
      ],
      "execution_count": 7,
      "outputs": [
        {
          "output_type": "stream",
          "text": [
            "training data shape (55000, 784)\n",
            "validation data shape (5000, 784)\n",
            "testing data shape (10000, 784)\n"
          ],
          "name": "stdout"
        }
      ]
    },
    {
      "metadata": {
        "id": "72O480LES8xx",
        "colab_type": "text"
      },
      "cell_type": "markdown",
      "source": [
        "## Hyperparameters"
      ]
    },
    {
      "metadata": {
        "id": "patpMsApkxXU",
        "colab_type": "code",
        "colab": {
          "autoexec": {
            "startup": false,
            "wait_interval": 0
          }
        }
      },
      "cell_type": "code",
      "source": [
        "# Hyperparams\n",
        "\n",
        "# number of images to feed in at each step\n",
        "batch_size = 100\n",
        "\n",
        "# coeficient to our weight update\n",
        "learning_rate = 0.1\n",
        "\n",
        "# number of times to feed in the whole dataset\n",
        "epochs = 2\n",
        "\n",
        "# the number of iterations = how many times do we need to input a batch to have inputed the whole training dataset\n",
        "iterations = ceil(mnist.number_train_samples/batch_size)\n",
        "\n",
        "# number of neurons in hidden layer\n",
        "hidden_size = 256"
      ],
      "execution_count": 0,
      "outputs": []
    },
    {
      "metadata": {
        "id": "TYWqqn2SkxXX",
        "colab_type": "code",
        "colab": {
          "autoexec": {
            "startup": false,
            "wait_interval": 0
          }
        }
      },
      "cell_type": "code",
      "source": [
        "tf.reset_default_graph()"
      ],
      "execution_count": 0,
      "outputs": []
    },
    {
      "metadata": {
        "id": "p36-xDFUTNdu",
        "colab_type": "text"
      },
      "cell_type": "markdown",
      "source": [
        "## Placeholders"
      ]
    },
    {
      "metadata": {
        "id": "B3ainDiRkxXb",
        "colab_type": "code",
        "colab": {
          "autoexec": {
            "startup": false,
            "wait_interval": 0
          },
          "base_uri": "https://localhost:8080/",
          "height": 54
        },
        "outputId": "8d1f67c6-505b-4e0e-805f-0431953671f8",
        "executionInfo": {
          "status": "ok",
          "timestamp": 1530976689035,
          "user_tz": -60,
          "elapsed": 316,
          "user": {
            "displayName": "Kiran Arun",
            "photoUrl": "//lh4.googleusercontent.com/-8IeZZ41ybbo/AAAAAAAAAAI/AAAAAAAACkI/_LkIlaW8I6g/s50-c-k-no/photo.jpg",
            "userId": "105201401933439284277"
          }
        }
      },
      "cell_type": "code",
      "source": [
        "# input placeholders\n",
        "\n",
        "# input image\n",
        "# when dimension = None, it means it's undefined, and will take whatever dimension size we give it\n",
        "X_placeholder = tf.placeholder(shape=[None, input_size], dtype=tf.float32, name='X_placeholder')\n",
        "\n",
        "# image labels\n",
        "Y_placeholder = tf.placeholder(shape=[None, num_classes], dtype=tf.int64, name='Y_placeholder')\n",
        "\n",
        "\n",
        "print(X_placeholder)\n",
        "print(Y_placeholder)"
      ],
      "execution_count": 10,
      "outputs": [
        {
          "output_type": "stream",
          "text": [
            "Tensor(\"X_placeholder:0\", shape=(?, 784), dtype=float32)\n",
            "Tensor(\"Y_placeholder:0\", shape=(?, 10), dtype=int64)\n"
          ],
          "name": "stdout"
        }
      ]
    },
    {
      "metadata": {
        "id": "CUhBri0QTTDC",
        "colab_type": "text"
      },
      "cell_type": "markdown",
      "source": [
        "## Variables"
      ]
    },
    {
      "metadata": {
        "id": "igi4r9MpkxXf",
        "colab_type": "code",
        "colab": {
          "autoexec": {
            "startup": false,
            "wait_interval": 0
          },
          "base_uri": "https://localhost:8080/",
          "height": 90
        },
        "outputId": "01e225cd-39ac-4224-d5c9-32338b357881",
        "executionInfo": {
          "status": "ok",
          "timestamp": 1530976689584,
          "user_tz": -60,
          "elapsed": 465,
          "user": {
            "displayName": "Kiran Arun",
            "photoUrl": "//lh4.googleusercontent.com/-8IeZZ41ybbo/AAAAAAAAAAI/AAAAAAAACkI/_LkIlaW8I6g/s50-c-k-no/photo.jpg",
            "userId": "105201401933439284277"
          }
        }
      },
      "cell_type": "code",
      "source": [
        "# Variables\n",
        "\n",
        "# First layer Variables\n",
        "W1 = tf.Variable(np.random.randn(input_size, hidden_size), dtype=tf.float32, name='W1')\n",
        "b1 = tf.Variable(np.random.randn(hidden_size), dtype=tf.float32, name='b1')\n",
        "\n",
        "# Second layer Variables\n",
        "W2 = tf.Variable(np.random.randn(hidden_size, num_classes), dtype=tf.float32, name='W2')\n",
        "b2 = tf.Variable(np.random.randn(num_classes), dtype=tf.float32, name='b2')\n",
        "\n",
        "print(W1)\n",
        "print(b1)\n",
        "\n",
        "print(W2)\n",
        "print(b2)"
      ],
      "execution_count": 11,
      "outputs": [
        {
          "output_type": "stream",
          "text": [
            "<tf.Variable 'W1:0' shape=(784, 256) dtype=float32_ref>\n",
            "<tf.Variable 'b1:0' shape=(256,) dtype=float32_ref>\n",
            "<tf.Variable 'W2:0' shape=(256, 10) dtype=float32_ref>\n",
            "<tf.Variable 'b2:0' shape=(10,) dtype=float32_ref>\n"
          ],
          "name": "stdout"
        }
      ]
    },
    {
      "metadata": {
        "id": "BhU7AP7cTX9B",
        "colab_type": "text"
      },
      "cell_type": "markdown",
      "source": [
        "## Forward Pass"
      ]
    },
    {
      "metadata": {
        "id": "KpRui1fGkxXj",
        "colab_type": "code",
        "colab": {
          "autoexec": {
            "startup": false,
            "wait_interval": 0
          },
          "base_uri": "https://localhost:8080/",
          "height": 54
        },
        "outputId": "4238d6bd-d64e-4382-9a99-aa39234a7a71",
        "executionInfo": {
          "status": "ok",
          "timestamp": 1530976690149,
          "user_tz": -60,
          "elapsed": 488,
          "user": {
            "displayName": "Kiran Arun",
            "photoUrl": "//lh4.googleusercontent.com/-8IeZZ41ybbo/AAAAAAAAAAI/AAAAAAAACkI/_LkIlaW8I6g/s50-c-k-no/photo.jpg",
            "userId": "105201401933439284277"
          }
        }
      },
      "cell_type": "code",
      "source": [
        "# first fully connected layer\n",
        "# output is our hidden layer\n",
        "# we matrix multiply (tf.matmul)\n",
        "# add bias (+ b1)\n",
        "# then apply activation function (tf.nn.relu)\n",
        "hidden_layer = tf.nn.relu(tf.matmul(X_placeholder, W1) + b1)\n",
        "\n",
        "# second fully connected layer\n",
        "# output is our NN output (predictions)\n",
        "Y_prediction = tf.matmul(hidden_layer, W2) + b2\n",
        "\n",
        "print(hidden_layer)\n",
        "print(Y_prediction)"
      ],
      "execution_count": 12,
      "outputs": [
        {
          "output_type": "stream",
          "text": [
            "Tensor(\"Relu:0\", shape=(?, 256), dtype=float32)\n",
            "Tensor(\"add_1:0\", shape=(?, 10), dtype=float32)\n"
          ],
          "name": "stdout"
        }
      ]
    },
    {
      "metadata": {
        "id": "egQwXN9BTmIF",
        "colab_type": "text"
      },
      "cell_type": "markdown",
      "source": [
        "## Loss"
      ]
    },
    {
      "metadata": {
        "id": "TytxCw2ckxXs",
        "colab_type": "code",
        "colab": {
          "autoexec": {
            "startup": false,
            "wait_interval": 0
          }
        }
      },
      "cell_type": "code",
      "source": [
        "# loss function, softmax and cross entropy\n",
        "\n",
        "# logits = NN output\n",
        "# labels = expected outputs\n",
        "# we take the mean so during gradient descent we take the mean step\n",
        "loss = tf.reduce_mean(tf.nn.softmax_cross_entropy_with_logits_v2(labels=Y_placeholder, logits=Y_prediction, name='loss'))"
      ],
      "execution_count": 0,
      "outputs": []
    },
    {
      "metadata": {
        "id": "7yL4q1GNTv6f",
        "colab_type": "text"
      },
      "cell_type": "markdown",
      "source": [
        "## Gradient Descent"
      ]
    },
    {
      "metadata": {
        "id": "kMqQCo4wkxX5",
        "colab_type": "code",
        "colab": {
          "autoexec": {
            "startup": false,
            "wait_interval": 0
          }
        }
      },
      "cell_type": "code",
      "source": [
        "# gradient descent optimizer\n",
        "\n",
        "# we input the learning rate and set it to minimize the loss value\n",
        "optimizer = tf.train.GradientDescentOptimizer(learning_rate).minimize(loss)"
      ],
      "execution_count": 0,
      "outputs": []
    },
    {
      "metadata": {
        "id": "2-8OSQ8uroo3",
        "colab_type": "text"
      },
      "cell_type": "markdown",
      "source": [
        "## Calculating Accuracy"
      ]
    },
    {
      "metadata": {
        "id": "JonLecJNkxX8",
        "colab_type": "code",
        "colab": {
          "autoexec": {
            "startup": false,
            "wait_interval": 0
          }
        }
      },
      "cell_type": "code",
      "source": [
        "# calculating accuracy\n",
        "\n",
        "# vector of bools on whether the prediction was right or wrong\n",
        "correct_prediction = tf.equal(tf.argmax(Y_prediction, 1), tf.argmax(Y_placeholder, 1))\n",
        "# taking the average of the above converted to binary ints (0 for wrong, 1 for right)\n",
        "accuracy = tf.reduce_mean(tf.cast(correct_prediction, tf.float32))\n",
        "# get probability output from softmax\n",
        "predictions = tf.nn.softmax(Y_prediction)"
      ],
      "execution_count": 0,
      "outputs": []
    },
    {
      "metadata": {
        "id": "JsggtzSVrr4d",
        "colab_type": "text"
      },
      "cell_type": "markdown",
      "source": [
        "## Tensorflow Sessions"
      ]
    },
    {
      "metadata": {
        "id": "dmIQDF7-kxX-",
        "colab_type": "code",
        "colab": {
          "autoexec": {
            "startup": false,
            "wait_interval": 0
          }
        }
      },
      "cell_type": "code",
      "source": [
        "# Initialize our session and vars\n",
        "sess = tf.InteractiveSession()\n",
        "sess.run(tf.global_variables_initializer())"
      ],
      "execution_count": 0,
      "outputs": []
    },
    {
      "metadata": {
        "id": "07_bXP-PUA0U",
        "colab_type": "text"
      },
      "cell_type": "markdown",
      "source": [
        "## Training"
      ]
    },
    {
      "metadata": {
        "id": "5EtDwiY_kxYB",
        "colab_type": "code",
        "colab": {
          "autoexec": {
            "startup": false,
            "wait_interval": 0
          },
          "base_uri": "https://localhost:8080/",
          "height": 235
        },
        "outputId": "e7e7c857-f417-4185-b859-dd178f7217fe",
        "executionInfo": {
          "status": "ok",
          "timestamp": 1530976697055,
          "user_tz": -60,
          "elapsed": 4254,
          "user": {
            "displayName": "Kiran Arun",
            "photoUrl": "//lh4.googleusercontent.com/-8IeZZ41ybbo/AAAAAAAAAAI/AAAAAAAACkI/_LkIlaW8I6g/s50-c-k-no/photo.jpg",
            "userId": "105201401933439284277"
          }
        }
      },
      "cell_type": "code",
      "source": [
        "# initialize empty array to hold losses for each training step\n",
        "losses = np.array([])\n",
        "\n",
        "for epoch in range(epochs):\n",
        "    print('New epoch', str(epoch+1)+'/'+str(epochs))\n",
        "    for iteration in range(iterations):\n",
        "\n",
        "        # get batches of training data for current step\n",
        "        batch_xs, batch_ys = mnist.get_batch(iteration, batch_size)\n",
        "\n",
        "        # run training step and get loss values to plot later\n",
        "        # calling optimizer will run the forward pass, the loss function and the pack pass\n",
        "        # we call the loss function just so we can record it\n",
        "        _, _loss = sess.run([optimizer, loss], \n",
        "                            feed_dict={\n",
        "                                X_placeholder: batch_xs,\n",
        "                                Y_placeholder: batch_ys\n",
        "                            })\n",
        "\n",
        "        if (iteration+1) % floor(iterations/5) == 0:\n",
        "\n",
        "            # get accuracy using validation set\n",
        "            _accuracy = sess.run(accuracy, feed_dict={X_placeholder : mnist.validation_images,\n",
        "                                                      Y_placeholder : mnist.validation_labels\n",
        "                                                     })\n",
        "\n",
        "            # print current step, batch loss and validation accuracy\n",
        "            print('step', str(iteration+1)+'/'+str(iterations), 'loss', _loss, 'accuracy', str(round(100*_accuracy,2))+'%')\n",
        "\n",
        "        # append the loss to the losses array to plot\n",
        "        losses = np.append(losses, _loss)"
      ],
      "execution_count": 17,
      "outputs": [
        {
          "output_type": "stream",
          "text": [
            "New epoch 1/2\n",
            "step 110/550 loss 9.602563 accuracy 86.18%\n",
            "step 220/550 loss 2.7450097 accuracy 89.12%\n",
            "step 330/550 loss 4.910742 accuracy 89.88%\n",
            "step 440/550 loss 5.692274 accuracy 90.34%\n",
            "step 550/550 loss 2.039623 accuracy 90.96%\n",
            "New epoch 2/2\n",
            "step 110/550 loss 3.511684 accuracy 91.32%\n",
            "step 220/550 loss 0.6517111 accuracy 91.86%\n",
            "step 330/550 loss 1.8291947 accuracy 92.52%\n",
            "step 440/550 loss 3.2666035 accuracy 92.1%\n",
            "step 550/550 loss 1.4042662 accuracy 92.66%\n"
          ],
          "name": "stdout"
        }
      ]
    },
    {
      "metadata": {
        "id": "_ftB92TwkxYE",
        "colab_type": "code",
        "colab": {
          "autoexec": {
            "startup": false,
            "wait_interval": 0
          },
          "base_uri": "https://localhost:8080/",
          "height": 378
        },
        "outputId": "6a7180c4-ac87-411e-d406-dbeff2c1117d",
        "executionInfo": {
          "status": "ok",
          "timestamp": 1530976697587,
          "user_tz": -60,
          "elapsed": 495,
          "user": {
            "displayName": "Kiran Arun",
            "photoUrl": "//lh4.googleusercontent.com/-8IeZZ41ybbo/AAAAAAAAAAI/AAAAAAAACkI/_LkIlaW8I6g/s50-c-k-no/photo.jpg",
            "userId": "105201401933439284277"
          }
        }
      },
      "cell_type": "code",
      "source": [
        "# plot training losses\n",
        "\n",
        "fig, ax = plt.subplots(figsize=(10,6))\n",
        "ax.plot(losses)\n",
        "ax.grid(True)"
      ],
      "execution_count": 18,
      "outputs": [
        {
          "output_type": "display_data",
          "data": {
            "image/png": "[encoded data removed]",
            "text/plain": [
              "<matplotlib.figure.Figure at 0x7f633ffc2390>"
            ]
          },
          "metadata": {
            "tags": []
          }
        }
      ]
    },
    {
      "metadata": {
        "id": "ijozOrq2UDXq",
        "colab_type": "text"
      },
      "cell_type": "markdown",
      "source": [
        "## Testing"
      ]
    },
    {
      "metadata": {
        "id": "tfaCaDxKkxYJ",
        "colab_type": "code",
        "colab": {
          "autoexec": {
            "startup": false,
            "wait_interval": 0
          },
          "base_uri": "https://localhost:8080/",
          "height": 35
        },
        "outputId": "5c40a4b4-cb36-4aa1-f9c1-cd720101c1ff",
        "executionInfo": {
          "status": "ok",
          "timestamp": 1530976698269,
          "user_tz": -60,
          "elapsed": 626,
          "user": {
            "displayName": "Kiran Arun",
            "photoUrl": "//lh4.googleusercontent.com/-8IeZZ41ybbo/AAAAAAAAAAI/AAAAAAAACkI/_LkIlaW8I6g/s50-c-k-no/photo.jpg",
            "userId": "105201401933439284277"
          }
        }
      },
      "cell_type": "code",
      "source": [
        "# find accuracy on test set\n",
        "_accuracy = sess.run(accuracy, feed_dict={X_placeholder : mnist.test_images,\n",
        "                                          Y_placeholder : mnist.test_labels\n",
        "                                         })\n",
        "\n",
        "print(str(round(100*_accuracy,2))+'%')"
      ],
      "execution_count": 19,
      "outputs": [
        {
          "output_type": "stream",
          "text": [
            "91.36%\n"
          ],
          "name": "stdout"
        }
      ]
    },
    {
      "metadata": {
        "id": "44N-HS2ckxYO",
        "colab_type": "code",
        "colab": {
          "autoexec": {
            "startup": false,
            "wait_interval": 0
          },
          "base_uri": "https://localhost:8080/",
          "height": 1077
        },
        "outputId": "c2942c9d-5f73-41af-bf69-9a0ac2d98f8a",
        "executionInfo": {
          "status": "ok",
          "timestamp": 1530976699221,
          "user_tz": -60,
          "elapsed": 890,
          "user": {
            "displayName": "Kiran Arun",
            "photoUrl": "//lh4.googleusercontent.com/-8IeZZ41ybbo/AAAAAAAAAAI/AAAAAAAACkI/_LkIlaW8I6g/s50-c-k-no/photo.jpg",
            "userId": "105201401933439284277"
          }
        }
      },
      "cell_type": "code",
      "source": [
        "# show test images with prediction probabilities\n",
        "\n",
        "test_idxs = [1,11]\n",
        "\n",
        "for test_idx in test_idxs:\n",
        "    # get input image and corresponding label\n",
        "    test_x, test_y = mnist.test_images[test_idx], mnist.test_labels[test_idx]\n",
        "\n",
        "    # make prediction\n",
        "    _prediction = sess.run(predictions, feed_dict={X_placeholder: test_x.reshape(1,-1)})\n",
        "\n",
        "    # show prediction and true answer\n",
        "    print('prediction:', np.argmax(_prediction), 'answer:', np.argmax(test_y))\n",
        "\n",
        "    # show probabilities for all values\n",
        "    for i,val in enumerate(_prediction[0]):\n",
        "        print(i, str(round(100*val,3))+'%')\n",
        "\n",
        "    # plot test image\n",
        "    plt.imshow(test_x.reshape(image_dims), cmap='binary')\n",
        "    plt.grid(False)\n",
        "    plt.show()"
      ],
      "execution_count": 20,
      "outputs": [
        {
          "output_type": "stream",
          "text": [
            "prediction: 0 answer: 0\n",
            "0 100.0%\n",
            "1 0.0%\n",
            "2 0.0%\n",
            "3 0.0%\n",
            "4 0.0%\n",
            "5 0.0%\n",
            "6 0.0%\n",
            "7 0.0%\n",
            "8 0.0%\n",
            "9 0.0%\n"
          ],
          "name": "stdout"
        },
        {
          "output_type": "display_data",
          "data": {
            "image/png": "[encoded data removed]",
            "text/plain": [
              "<matplotlib.figure.Figure at 0x7f6342017908>"
            ]
          },
          "metadata": {
            "tags": []
          }
        },
        {
          "output_type": "stream",
          "text": [
            "prediction: 6 answer: 6\n",
            "0 0.0%\n",
            "1 0.0%\n",
            "2 0.0%\n",
            "3 0.0%\n",
            "4 0.0%\n",
            "5 0.0%\n",
            "6 100.0%\n",
            "7 0.0%\n",
            "8 0.0%\n",
            "9 0.0%\n"
          ],
          "name": "stdout"
        },
        {
          "output_type": "display_data",
          "data": {
            "image/png": "[encoded data removed]",
            "text/plain": [
              "<matplotlib.figure.Figure at 0x7f633d715c88>"
            ]
          },
          "metadata": {
            "tags": []
          }
        }
      ]
    },
    {
      "metadata": {
        "id": "DdVNfsmuCP8H",
        "colab_type": "code",
        "colab": {
          "autoexec": {
            "startup": false,
            "wait_interval": 0
          }
        }
      },
      "cell_type": "code",
      "source": [
        ""
      ],
      "execution_count": 0,
      "outputs": []
    }
  ]
}