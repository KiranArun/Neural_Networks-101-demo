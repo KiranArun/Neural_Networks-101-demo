{
 "cells": [
  {
   "cell_type": "code",
   "execution_count": 1,
   "metadata": {},
   "outputs": [],
   "source": [
    "# import libraries\n",
    "import torch\n",
    "import torch.nn as nn\n",
    "import torchvision.transforms as transforms\n",
    "from torch.autograd import Variable\n",
    "import torch.nn.functional as F\n",
    "import torch.utils.data as utils\n",
    "\n",
    "import numpy as np\n",
    "import matplotlib.pyplot as plt\n",
    "from math import ceil"
   ]
  },
  {
   "cell_type": "code",
   "execution_count": 12,
   "metadata": {},
   "outputs": [
    {
     "name": "stdout",
     "output_type": "stream",
     "text": [
      "Extracting /notebooks/my-notebooks/MNIST/MNIST_data/train-images-idx3-ubyte.gz\n",
      "Extracting /notebooks/my-notebooks/MNIST/MNIST_data/train-labels-idx1-ubyte.gz\n",
      "Extracting /notebooks/my-notebooks/MNIST/MNIST_data/t10k-images-idx3-ubyte.gz\n",
      "Extracting /notebooks/my-notebooks/MNIST/MNIST_data/t10k-labels-idx1-ubyte.gz\n"
     ]
    }
   ],
   "source": [
    "model_root_dir = '/notebooks/my-notebooks/MNIST/'\n",
    "\n",
    "# get data\n",
    "from tensorflow.examples.tutorials.mnist import input_data\n",
    "mnist = input_data.read_data_sets(model_root_dir+'MNIST_data', one_hot=False)"
   ]
  },
  {
   "cell_type": "code",
   "execution_count": 3,
   "metadata": {},
   "outputs": [],
   "source": [
    "# Hyperparams\n",
    "input_size = 784\n",
    "num_classes = 10\n",
    "\n",
    "batch_size = 100\n",
    "learning_rate = 0.5\n",
    "\n",
    "epochs = 2"
   ]
  },
  {
   "cell_type": "code",
   "execution_count": 4,
   "metadata": {},
   "outputs": [],
   "source": [
    "# create pytorch dataset with mnist data\n",
    "training_dataset = utils.TensorDataset(torch.Tensor(mnist.train.images),torch.LongTensor(mnist.train.labels))\n",
    "\n",
    "# create pytorch dataloader for extra features and ease of use in training loop\n",
    "training_loader = utils.DataLoader(dataset=training_dataset,\n",
    "                                   batch_size=batch_size,\n",
    "                                   shuffle=True)"
   ]
  },
  {
   "cell_type": "code",
   "execution_count": 5,
   "metadata": {},
   "outputs": [],
   "source": [
    "# define NN\n",
    "class Net(nn.Module):\n",
    "    \n",
    "    def __init__(self, input_size, num_classes):\n",
    "        super(Net, self).__init__()\n",
    "        \n",
    "        # define layer as a fully connected layer\n",
    "        self.layer = nn.Linear(input_size, num_classes) \n",
    "    \n",
    "    # define forward pass function    \n",
    "    def forward(self, x):\n",
    "        \n",
    "        # apply layer and return output\n",
    "        out = self.layer(x)\n",
    "        return out"
   ]
  },
  {
   "cell_type": "code",
   "execution_count": 6,
   "metadata": {},
   "outputs": [],
   "source": [
    "# set net to our Net with params\n",
    "net = Net(input_size, num_classes)\n",
    "\n",
    "# define loss function\n",
    "loss_func = nn.CrossEntropyLoss() \n",
    "# define optimizer\n",
    "optimizer = torch.optim.SGD(net.parameters(), lr=learning_rate) "
   ]
  },
  {
   "cell_type": "code",
   "execution_count": 7,
   "metadata": {},
   "outputs": [],
   "source": [
    "# create function to calculate accuracy\n",
    "def get_accuracy(images,labels):\n",
    "    \n",
    "    test_x = Variable(torch.Tensor(images))\n",
    "    test_y = torch.LongTensor(labels)\n",
    "\n",
    "    _outputs = net(test_x)\n",
    "    _, _predicted = torch.max(_outputs.data, 1)\n",
    "    \n",
    "    num_correct = (_predicted.cpu() == test_y).sum()\n",
    "    num_total = test_y.size(0)\n",
    "\n",
    "    return(str(100.0 * num_correct/num_total)+'%')"
   ]
  },
  {
   "cell_type": "code",
   "execution_count": 8,
   "metadata": {},
   "outputs": [
    {
     "name": "stdout",
     "output_type": "stream",
     "text": [
      "New epoch 1/2\n",
      "step 50/550 loss 0.414714843035 accuracy 87.4%\n",
      "step 100/550 loss 0.289950668812 accuracy 89.4%\n",
      "step 150/550 loss 0.392772108316 accuracy 90.22%\n",
      "step 200/550 loss 0.461411833763 accuracy 90.08%\n",
      "step 250/550 loss 0.455527603626 accuracy 91.0%\n",
      "step 300/550 loss 0.278138875961 accuracy 90.72%\n",
      "step 350/550 loss 0.440381556749 accuracy 91.7%\n",
      "step 400/550 loss 0.266837716103 accuracy 91.12%\n",
      "step 450/550 loss 0.351747274399 accuracy 91.3%\n",
      "step 500/550 loss 0.285578280687 accuracy 91.54%\n",
      "step 550/550 loss 0.423537611961 accuracy 91.6%\n",
      "New epoch 2/2\n",
      "step 50/550 loss 0.453916400671 accuracy 91.4%\n",
      "step 100/550 loss 0.336255341768 accuracy 91.22%\n",
      "step 150/550 loss 0.345664978027 accuracy 91.78%\n",
      "step 200/550 loss 0.324494928122 accuracy 91.9%\n",
      "step 250/550 loss 0.286883741617 accuracy 91.6%\n",
      "step 300/550 loss 0.450002670288 accuracy 91.58%\n",
      "step 350/550 loss 0.180936813354 accuracy 91.78%\n",
      "step 400/550 loss 0.464432418346 accuracy 91.92%\n",
      "step 450/550 loss 0.26451972127 accuracy 92.0%\n",
      "step 500/550 loss 0.472328752279 accuracy 91.8%\n",
      "step 550/550 loss 0.274578273296 accuracy 92.08%\n"
     ]
    }
   ],
   "source": [
    "# calculate iterations to print as total steps\n",
    "iterations = int(ceil(training_loader.dataset.target_tensor.size()[0]/float(batch_size)))\n",
    "\n",
    "# initialize losses array\n",
    "losses = np.array([])\n",
    "\n",
    "for epoch in range(epochs):\n",
    "    \n",
    "    print 'New epoch', str(epoch+1)+'/'+str(epochs)\n",
    "    \n",
    "    # for each batch in data loader\n",
    "    for idx, (images, labels) in enumerate(training_loader):\n",
    "        \n",
    "        # set images and labels to variables so we can calculate the gradient\n",
    "        images = Variable(images.view(-1, input_size))\n",
    "        labels = Variable(labels)\n",
    "\n",
    "        # reset the parameter gradients\n",
    "        optimizer.zero_grad()\n",
    "        \n",
    "        # forward pass\n",
    "        outputs = net(images)\n",
    "        # calculate loss\n",
    "        loss = loss_func(outputs, labels)\n",
    "        # calculate parameter gradients\n",
    "        loss.backward()\n",
    "        # update weights\n",
    "        optimizer.step()\n",
    "\n",
    "        if (idx+1) % 50 == 0:\n",
    "            # calculate validation accuracy\n",
    "            _accuracy = get_accuracy(mnist.validation.images, mnist.validation.labels)\n",
    "            # print current status\n",
    "            print 'step', str(idx+1)+'/'+str(iterations), 'loss', loss.data[0], 'accuracy', _accuracy\n",
    "            \n",
    "        # append current loss to losses array to plot\n",
    "        losses = np.append(losses, loss.data[0])"
   ]
  },
  {
   "cell_type": "code",
   "execution_count": 9,
   "metadata": {},
   "outputs": [
    {
     "data": {
      "image/png": "[encoded data removed]",
      "text/plain": [
       "<matplotlib.figure.Figure at 0x7ff3542aa490>"
      ]
     },
     "metadata": {},
     "output_type": "display_data"
    }
   ],
   "source": [
    "# plot losses\n",
    "fig, ax = plt.subplots(figsize=(10,6))\n",
    "ax.plot(losses)\n",
    "ax.grid(True)"
   ]
  },
  {
   "cell_type": "code",
   "execution_count": 10,
   "metadata": {},
   "outputs": [
    {
     "name": "stdout",
     "output_type": "stream",
     "text": [
      "91.84%\n"
     ]
    }
   ],
   "source": [
    "# show evaluation accuracy\n",
    "print get_accuracy(mnist.test.images,mnist.test.labels)"
   ]
  },
  {
   "cell_type": "code",
   "execution_count": 11,
   "metadata": {},
   "outputs": [
    {
     "name": "stdout",
     "output_type": "stream",
     "text": [
      "prediction: 2 answer: 2\n",
      "0 0.13%\n",
      "1 0.0%\n",
      "2 98.63%\n",
      "3 0.24%\n",
      "4 0.0%\n",
      "5 0.18%\n",
      "6 0.75%\n",
      "7 0.0%\n",
      "8 0.07%\n",
      "9 0.0%\n"
     ]
    },
    {
     "data": {
      "image/png": "[encoded data removed]",
      "text/plain": [
       "<matplotlib.figure.Figure at 0x7ff34f9c0cd0>"
      ]
     },
     "metadata": {},
     "output_type": "display_data"
    },
    {
     "name": "stdout",
     "output_type": "stream",
     "text": [
      "prediction: 6 answer: 6\n",
      "0 0.17%\n",
      "1 0.05%\n",
      "2 10.26%\n",
      "3 0.68%\n",
      "4 0.31%\n",
      "5 0.17%\n",
      "6 72.28%\n",
      "7 0.0%\n",
      "8 16.0%\n",
      "9 0.08%\n"
     ]
    },
    {
     "data": {
      "image/png": "[encoded data removed]",
      "text/plain": [
       "<matplotlib.figure.Figure at 0x7ff34f9a81d0>"
      ]
     },
     "metadata": {},
     "output_type": "display_data"
    }
   ],
   "source": [
    "# test and show test images\n",
    "test_idxs = [1,11]\n",
    "\n",
    "for test_idx in test_idxs:\n",
    "    test_x = Variable(torch.Tensor(mnist.test.images[test_idx].reshape(1,-1)))\n",
    "    test_y = mnist.test.labels[test_idx]\n",
    "\n",
    "    _prediction = net(test_x)\n",
    "\n",
    "    print 'prediction:', np.argmax(_prediction.data.numpy()), 'answer:', test_y\n",
    "\n",
    "    for i,val in enumerate(_prediction[0]):\n",
    "        print i, str(round(100*np.exp(val)/np.sum(np.exp(_prediction)),2))+'%'\n",
    "\n",
    "    plt.imshow(test_x.data.numpy().reshape(28,28), cmap='binary')\n",
    "    plt.show()"
   ]
  },
  {
   "cell_type": "code",
   "execution_count": null,
   "metadata": {},
   "outputs": [],
   "source": []
  }
 ],
 "metadata": {
  "kernelspec": {
   "display_name": "Python 2",
   "language": "python",
   "name": "python2"
  },
  "language_info": {
   "codemirror_mode": {
    "name": "ipython",
    "version": 2
   },
   "file_extension": ".py",
   "mimetype": "text/x-python",
   "name": "python",
   "nbconvert_exporter": "python",
   "pygments_lexer": "ipython2",
   "version": "2.7.12"
  }
 },
 "nbformat": 4,
 "nbformat_minor": 2
}
