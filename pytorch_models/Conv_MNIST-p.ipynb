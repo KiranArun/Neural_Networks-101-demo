{
 "cells": [
  {
   "cell_type": "code",
   "execution_count": 1,
   "metadata": {},
   "outputs": [],
   "source": [
    "# import libraries\n",
    "import torch\n",
    "import torch.nn as nn\n",
    "import torchvision.transforms as transforms\n",
    "from torch.autograd import Variable\n",
    "import torch.nn.functional as F\n",
    "import torch.utils.data as utils\n",
    "\n",
    "import numpy as np\n",
    "import matplotlib.pyplot as plt\n",
    "from math import ceil"
   ]
  },
  {
   "cell_type": "code",
   "execution_count": 13,
   "metadata": {},
   "outputs": [
    {
     "name": "stdout",
     "output_type": "stream",
     "text": [
      "Extracting /notebooks/my-notebooks/MNIST/MNIST_data/train-images-idx3-ubyte.gz\n",
      "Extracting /notebooks/my-notebooks/MNIST/MNIST_data/train-labels-idx1-ubyte.gz\n",
      "Extracting /notebooks/my-notebooks/MNIST/MNIST_data/t10k-images-idx3-ubyte.gz\n",
      "Extracting /notebooks/my-notebooks/MNIST/MNIST_data/t10k-labels-idx1-ubyte.gz\n"
     ]
    }
   ],
   "source": [
    "model_root_dir = '/notebooks/my-notebooks/MNIST/'\n",
    "\n",
    "# get data\n",
    "from tensorflow.examples.tutorials.mnist import input_data\n",
    "mnist = input_data.read_data_sets(model_root_dir+'MNIST_data', one_hot=False)"
   ]
  },
  {
   "cell_type": "code",
   "execution_count": 3,
   "metadata": {},
   "outputs": [],
   "source": [
    "# Hyperparams\n",
    "image_size = 28\n",
    "num_classes = 10\n",
    "\n",
    "batch_size = 100\n",
    "learning_rate = 0.2\n",
    "dropout_rate = 0.4\n",
    "\n",
    "epochs = 2"
   ]
  },
  {
   "cell_type": "code",
   "execution_count": 4,
   "metadata": {},
   "outputs": [],
   "source": [
    "# create pytorch dataset with mnist data\n",
    "training_dataset = utils.TensorDataset(torch.Tensor(mnist.train.images),torch.LongTensor(mnist.train.labels))\n",
    "\n",
    "# create pytorch dataloader for extra features and ease of use in training loop\n",
    "training_loader = utils.DataLoader(dataset=training_dataset,\n",
    "                                   batch_size=batch_size,\n",
    "                                   shuffle=True)"
   ]
  },
  {
   "cell_type": "code",
   "execution_count": 5,
   "metadata": {},
   "outputs": [],
   "source": [
    "# define NN\n",
    "class Net(nn.Module):\n",
    "    \n",
    "    def __init__(self, num_classes):\n",
    "        super(Net, self).__init__()\n",
    "        \n",
    "        # define convolutional layers 1 and 2\n",
    "        self.conv1 = nn.Conv2d(in_channels=1,out_channels=8,kernel_size=5)\n",
    "        self.conv2 = nn.Conv2d(in_channels=8,out_channels=16,kernel_size=5)\n",
    "        \n",
    "        # define fc layers 1 and 2, with 2 being the output layer\n",
    "        self.fc1 = nn.Linear(16*4*4, 256)\n",
    "        self.fc2 = nn.Linear(256, num_classes)\n",
    "    \n",
    "    # define forward pass\n",
    "    def forward(self, x):\n",
    "        \n",
    "        x = x.view(-1,1,image_size,image_size)\n",
    "        \n",
    "        # apply conv1 and relu\n",
    "        x = F.relu(self.conv1(x))\n",
    "        # apply max pooling\n",
    "        x = F.max_pool2d(input=x,kernel_size=(2,2),stride=2)\n",
    "        \n",
    "        # apply conv2 and relu\n",
    "        x = F.relu(self.conv2(x))\n",
    "        # apply max pooling\n",
    "        x = F.max_pool2d(input=x,kernel_size=(2,2),stride=2)\n",
    "        \n",
    "        # flatten\n",
    "        x = x.view(-1,16*4*4)\n",
    "        \n",
    "        # fc layer 1\n",
    "        x = F.relu(self.fc1(x))\n",
    "        # apply dropout to fc1\n",
    "        x = F.dropout(input=x,p=dropout_rate,training=self.training)\n",
    "        \n",
    "        # output layer, with a fc\n",
    "        out = self.fc2(x)\n",
    "        \n",
    "        return out"
   ]
  },
  {
   "cell_type": "code",
   "execution_count": 6,
   "metadata": {},
   "outputs": [],
   "source": [
    "# set net to our Net with params\n",
    "net = Net(num_classes)\n",
    "\n",
    "# define loss function\n",
    "loss_func = nn.CrossEntropyLoss() \n",
    "# define optimizer\n",
    "optimizer = torch.optim.SGD(net.parameters(), lr=learning_rate)  "
   ]
  },
  {
   "cell_type": "code",
   "execution_count": 7,
   "metadata": {},
   "outputs": [],
   "source": [
    "# create function to calculate accuracy\n",
    "def get_accuracy(images,labels):\n",
    "    \n",
    "    test_x = Variable(torch.Tensor(images))\n",
    "    test_y = torch.LongTensor(labels)\n",
    "\n",
    "    _outputs = net(test_x)\n",
    "    _, _predicted = torch.max(_outputs.data, 1)\n",
    "    \n",
    "    num_correct = (_predicted.cpu() == test_y).sum()\n",
    "    num_total = test_y.size(0)\n",
    "\n",
    "    return(str(100.0 * num_correct/num_total)+'%')"
   ]
  },
  {
   "cell_type": "code",
   "execution_count": 8,
   "metadata": {},
   "outputs": [
    {
     "name": "stdout",
     "output_type": "stream",
     "text": [
      "New epoch 1/2\n",
      "step 50/550 loss 0.6377556324005127 accuracy 83.8%\n",
      "step 100/550 loss 0.4124569594860077 accuracy 91.82%\n",
      "step 150/550 loss 0.3210999369621277 accuracy 94.16%\n",
      "step 200/550 loss 0.2856883704662323 accuracy 94.0%\n",
      "step 250/550 loss 0.1704593300819397 accuracy 96.24%\n",
      "step 300/550 loss 0.20828548073768616 accuracy 96.0%\n",
      "step 350/550 loss 0.1303173154592514 accuracy 96.66%\n",
      "step 400/550 loss 0.15731564164161682 accuracy 97.14%\n",
      "step 450/550 loss 0.12559986114501953 accuracy 97.54%\n",
      "step 500/550 loss 0.09701533615589142 accuracy 97.22%\n",
      "step 550/550 loss 0.15379635989665985 accuracy 97.44%\n",
      "New epoch 2/2\n",
      "step 50/550 loss 0.02714633196592331 accuracy 97.62%\n",
      "step 100/550 loss 0.08097858726978302 accuracy 97.82%\n",
      "step 150/550 loss 0.10203234851360321 accuracy 97.78%\n",
      "step 200/550 loss 0.01787884533405304 accuracy 97.94%\n",
      "step 250/550 loss 0.1386270821094513 accuracy 97.9%\n",
      "step 300/550 loss 0.09188000857830048 accuracy 97.92%\n",
      "step 350/550 loss 0.028029046952724457 accuracy 98.22%\n",
      "step 400/550 loss 0.03387404605746269 accuracy 98.22%\n",
      "step 450/550 loss 0.1019684299826622 accuracy 98.24%\n",
      "step 500/550 loss 0.03638145700097084 accuracy 98.2%\n",
      "step 550/550 loss 0.01820232905447483 accuracy 98.36%\n"
     ]
    }
   ],
   "source": [
    "# calculate iterations to print as total steps\n",
    "iterations = int(ceil(training_loader.dataset.target_tensor.size()[0]/float(batch_size)))\n",
    "\n",
    "# initialize losses array\n",
    "losses = np.array([])\n",
    "\n",
    "for epoch in range(epochs):\n",
    "    \n",
    "    print('New epoch', str(epoch+1)+'/'+str(epochs))\n",
    "    \n",
    "    # for each batch in data loader\n",
    "    for idx, (images, labels) in enumerate(training_loader):\n",
    "        \n",
    "        # set images and labels to variables so we can calculate the gradient\n",
    "        images = Variable(images)\n",
    "        labels = Variable(labels)\n",
    "\n",
    "        # reset the parameter gradients\n",
    "        optimizer.zero_grad()\n",
    "        \n",
    "        # forward pass\n",
    "        outputs = net(images)\n",
    "        # calculate loss\n",
    "        loss = loss_func(outputs, labels)\n",
    "        # calculate parameter gradients\n",
    "        loss.backward()\n",
    "        # update weights\n",
    "        optimizer.step()\n",
    "\n",
    "        if (idx+1) % 50 == 0:\n",
    "            # set to evaluating mode, to avoid dropout\n",
    "            net.eval()\n",
    "            # calculate validation accuracy\n",
    "            _accuracy = get_accuracy(mnist.validation.images, mnist.validation.labels)\n",
    "            # print current status\n",
    "            print('step', str(idx+1)+'/'+str(iterations), 'loss', loss.data[0], 'accuracy', _accuracy)\n",
    "            \n",
    "            # set back to training mode\n",
    "            net.train()\n",
    "            \n",
    "        # append current loss to losses array to plot\n",
    "        losses = np.append(losses, loss.data[0])"
   ]
  },
  {
   "cell_type": "code",
   "execution_count": 9,
   "metadata": {},
   "outputs": [
    {
     "data": {
      "image/png": "[encoded data removed]",
      "text/plain": [
       "<matplotlib.figure.Figure at 0x7fedf08fd828>"
      ]
     },
     "metadata": {},
     "output_type": "display_data"
    }
   ],
   "source": [
    "# plot losses\n",
    "fig, ax = plt.subplots(figsize=(10,6))\n",
    "ax.plot(losses)\n",
    "ax.grid(True)"
   ]
  },
  {
   "cell_type": "code",
   "execution_count": 10,
   "metadata": {},
   "outputs": [
    {
     "name": "stdout",
     "output_type": "stream",
     "text": [
      "98.52%\n"
     ]
    }
   ],
   "source": [
    "# show evaluation accuracy\n",
    "net.eval()\n",
    "print(get_accuracy(mnist.test.images,mnist.test.labels))"
   ]
  },
  {
   "cell_type": "code",
   "execution_count": 12,
   "metadata": {},
   "outputs": [
    {
     "name": "stdout",
     "output_type": "stream",
     "text": [
      "prediction: 2 answer: 2\n",
      "0 0.0%\n",
      "1 0.01%\n",
      "2 99.99%\n",
      "3 0.0%\n",
      "4 0.0%\n",
      "5 0.0%\n",
      "6 0.0%\n",
      "7 0.0%\n",
      "8 0.0%\n",
      "9 0.0%\n"
     ]
    },
    {
     "data": {
      "image/png": "[encoded data removed]",
      "text/plain": [
       "<matplotlib.figure.Figure at 0x7fedec811438>"
      ]
     },
     "metadata": {},
     "output_type": "display_data"
    },
    {
     "name": "stdout",
     "output_type": "stream",
     "text": [
      "prediction: 6 answer: 6\n",
      "0 0.01%\n",
      "1 0.0%\n",
      "2 0.0%\n",
      "3 0.0%\n",
      "4 0.0%\n",
      "5 0.06%\n",
      "6 99.92%\n",
      "7 0.0%\n",
      "8 0.0%\n",
      "9 0.0%\n"
     ]
    },
    {
     "data": {
      "image/png": "[encoded data removed]",
      "text/plain": [
       "<matplotlib.figure.Figure at 0x7fedec7b1198>"
      ]
     },
     "metadata": {},
     "output_type": "display_data"
    }
   ],
   "source": [
    "# test and show test images\n",
    "test_idxs = [1,11]\n",
    "\n",
    "net.eval()\n",
    "\n",
    "for test_idx in test_idxs:\n",
    "    test_x = Variable(torch.Tensor(mnist.test.images[test_idx]))\n",
    "    test_y = mnist.test.labels[test_idx]\n",
    "\n",
    "    _prediction = net(test_x)\n",
    "\n",
    "    print('prediction:', np.argmax(_prediction.data.numpy()), 'answer:', test_y)\n",
    "\n",
    "    for i,val in enumerate(_prediction[0]):\n",
    "        print(i, str(round(float(100*np.exp(val)/np.sum(np.exp(_prediction))),2))+'%')\n",
    "\n",
    "    plt.imshow(test_x.data.numpy().reshape(image_size,image_size), cmap='binary')\n",
    "    plt.show()"
   ]
  }
 ],
 "metadata": {
  "kernelspec": {
   "display_name": "Python 3",
   "language": "python",
   "name": "python3"
  },
  "language_info": {
   "codemirror_mode": {
    "name": "ipython",
    "version": 3
   },
   "file_extension": ".py",
   "mimetype": "text/x-python",
   "name": "python",
   "nbconvert_exporter": "python",
   "pygments_lexer": "ipython3",
   "version": "3.5.2"
  }
 },
 "nbformat": 4,
 "nbformat_minor": 2
}
