{
 "cells": [
  {
   "cell_type": "code",
   "execution_count": 10,
   "metadata": {},
   "outputs": [],
   "source": [
    "import keras                       # import keras using tf backend\n",
    "import numpy as np\n",
    "import matplotlib.pyplot as plt"
   ]
  },
  {
   "cell_type": "code",
   "execution_count": 2,
   "metadata": {},
   "outputs": [
    {
     "name": "stdout",
     "output_type": "stream",
     "text": [
      "Extracting /notebooks/my-notebooks/MNIST/MNIST_data/train-images-idx3-ubyte.gz\n",
      "Extracting /notebooks/my-notebooks/MNIST/MNIST_data/train-labels-idx1-ubyte.gz\n",
      "Extracting /notebooks/my-notebooks/MNIST/MNIST_data/t10k-images-idx3-ubyte.gz\n",
      "Extracting /notebooks/my-notebooks/MNIST/MNIST_data/t10k-labels-idx1-ubyte.gz\n"
     ]
    }
   ],
   "source": [
    "# set root directorty of all MNIST models\n",
    "model_root_dir = '/notebooks/my-notebooks/MNIST/'\n",
    "\n",
    "# get data\n",
    "from tensorflow.examples.tutorials.mnist import input_data\n",
    "mnist = input_data.read_data_sets(model_root_dir+'MNIST_data', one_hot=True)"
   ]
  },
  {
   "cell_type": "code",
   "execution_count": 3,
   "metadata": {},
   "outputs": [],
   "source": [
    "image_size = 28\n",
    "num_classes = 10\n",
    "\n",
    "batch_size = 100\n",
    "learning_rate = 0.2\n",
    "dropout_rate = 0.4\n",
    "\n",
    "epochs = 2"
   ]
  },
  {
   "cell_type": "code",
   "execution_count": 4,
   "metadata": {},
   "outputs": [],
   "source": [
    "x_train, y_train = mnist.train.images.reshape(-1,image_size,image_size,1), mnist.train.labels\n",
    "x_val, y_val = mnist.validation.images.reshape(-1,image_size,image_size,1), mnist.validation.labels\n",
    "x_test, y_test = mnist.test.images.reshape(-1,image_size,image_size,1), mnist.test.labels"
   ]
  },
  {
   "cell_type": "code",
   "execution_count": 5,
   "metadata": {},
   "outputs": [
    {
     "name": "stdout",
     "output_type": "stream",
     "text": [
      "_________________________________________________________________\n",
      "Layer (type)                 Output Shape              Param #   \n",
      "=================================================================\n",
      "conv2d_1 (Conv2D)            (None, 24, 24, 8)         208       \n",
      "_________________________________________________________________\n",
      "max_pooling2d_1 (MaxPooling2 (None, 12, 12, 8)         0         \n",
      "_________________________________________________________________\n",
      "conv2d_2 (Conv2D)            (None, 8, 8, 16)          3216      \n",
      "_________________________________________________________________\n",
      "max_pooling2d_2 (MaxPooling2 (None, 4, 4, 16)          0         \n",
      "_________________________________________________________________\n",
      "flatten_1 (Flatten)          (None, 256)               0         \n",
      "_________________________________________________________________\n",
      "dense_1 (Dense)              (None, 256)               65792     \n",
      "_________________________________________________________________\n",
      "dropout_1 (Dropout)          (None, 256)               0         \n",
      "_________________________________________________________________\n",
      "dense_2 (Dense)              (None, 10)                2570      \n",
      "=================================================================\n",
      "Total params: 71,786\n",
      "Trainable params: 71,786\n",
      "Non-trainable params: 0\n",
      "_________________________________________________________________\n"
     ]
    }
   ],
   "source": [
    "# reset session to rebuild model without building another one\n",
    "keras.backend.clear_session()\n",
    "\n",
    "# create model\n",
    "model = keras.models.Sequential()\n",
    "\n",
    "# define convolutional layer 1 with relu\n",
    "model.add(keras.layers.Conv2D(filters=8, kernel_size=(5,5), activation='relu', input_shape=(image_size,image_size,1)))\n",
    "# add a max pooling layer\n",
    "model.add(keras.layers.MaxPool2D(pool_size=(2,2), strides=2))\n",
    "\n",
    "# define convolutional layer 2 with relu\n",
    "model.add(keras.layers.Conv2D(filters=16, kernel_size=(5,5), activation='relu'))\n",
    "# add a max pooling layer\n",
    "model.add(keras.layers.MaxPool2D(pool_size=(2,2), strides=2))\n",
    "\n",
    "# flatten\n",
    "model.add(keras.layers.Flatten())\n",
    "\n",
    "# add a hidden fully connected layer\n",
    "model.add(keras.layers.Dense(units=256, activation='relu'))\n",
    "# add dropout\n",
    "model.add(keras.layers.Dropout(rate=dropout_rate))\n",
    "\n",
    "# add output fc layer\n",
    "model.add(keras.layers.Dense(units=num_classes, activation='softmax'))\n",
    "\n",
    "# show model structure\n",
    "model.summary()"
   ]
  },
  {
   "cell_type": "code",
   "execution_count": 6,
   "metadata": {},
   "outputs": [],
   "source": [
    "# define loss function\n",
    "# define optimizer\n",
    "# also return accuracy as a performance metric\n",
    "model.compile(loss='categorical_crossentropy',\n",
    "              optimizer=keras.optimizers.SGD(lr=learning_rate),\n",
    "              metrics=['accuracy'])"
   ]
  },
  {
   "cell_type": "code",
   "execution_count": 7,
   "metadata": {},
   "outputs": [
    {
     "name": "stdout",
     "output_type": "stream",
     "text": [
      "Train on 55000 samples, validate on 5000 samples\n",
      "Epoch 1/2\n",
      "55000/55000 [==============================] - 6s 116us/step - loss: 0.2870 - acc: 0.9078 - val_loss: 0.0730 - val_acc: 0.9798\n",
      "Epoch 2/2\n",
      "55000/55000 [==============================] - 4s 74us/step - loss: 0.0910 - acc: 0.9715 - val_loss: 0.0576 - val_acc: 0.9820\n"
     ]
    }
   ],
   "source": [
    "# train model\n",
    "history = model.fit(x_train, y_train,\n",
    "                    batch_size=batch_size,\n",
    "                    epochs=epochs,\n",
    "                    verbose=1,\n",
    "                    validation_data=(x_val, y_val))"
   ]
  },
  {
   "cell_type": "code",
   "execution_count": 8,
   "metadata": {},
   "outputs": [
    {
     "name": "stdout",
     "output_type": "stream",
     "text": [
      "Test accuracy: 98.51%\n"
     ]
    }
   ],
   "source": [
    "# show evaluation accuracy\n",
    "score = model.evaluate(x_test, y_test, verbose=0)\n",
    "print('Test accuracy:', str(round(100*score[1],2))+'%')"
   ]
  },
  {
   "cell_type": "code",
   "execution_count": 9,
   "metadata": {},
   "outputs": [
    {
     "name": "stdout",
     "output_type": "stream",
     "text": [
      "prediction: 2 answer: 2\n",
      "0 0.001%\n",
      "1 0.117%\n",
      "2 99.854%\n",
      "3 0.003%\n",
      "4 0.0%\n",
      "5 0.0%\n",
      "6 0.023%\n",
      "7 0.0%\n",
      "8 0.002%\n",
      "9 0.0%\n"
     ]
    },
    {
     "data": {
      "image/png": "[encoded data removed]",
      "text/plain": [
       "<matplotlib.figure.Figure at 0x7fb773f14198>"
      ]
     },
     "metadata": {},
     "output_type": "display_data"
    },
    {
     "name": "stdout",
     "output_type": "stream",
     "text": [
      "prediction: 6 answer: 6\n",
      "0 0.001%\n",
      "1 0.0%\n",
      "2 0.0%\n",
      "3 0.0%\n",
      "4 0.0%\n",
      "5 0.0%\n",
      "6 99.999%\n",
      "7 0.0%\n",
      "8 0.0%\n",
      "9 0.0%\n"
     ]
    },
    {
     "data": {
      "image/png": "[encoded data removed]",
      "text/plain": [
       "<matplotlib.figure.Figure at 0x7fb775a42c88>"
      ]
     },
     "metadata": {},
     "output_type": "display_data"
    }
   ],
   "source": [
    "# test and show test images\n",
    "test_idxs = [1,11]\n",
    "\n",
    "for test_idx in test_idxs:\n",
    "    test_x, test_y = mnist.test.images[test_idx].reshape(1,image_size,image_size,1), mnist.test.labels[test_idx].reshape(1,-1)\n",
    "\n",
    "    _prediction = model.predict(test_x)\n",
    "\n",
    "    print('prediction:', np.argmax(_prediction), 'answer:', np.argmax(test_y))\n",
    "\n",
    "    for i,val in enumerate(_prediction[0]):\n",
    "        print(i, str(round((100*val),3))+'%')\n",
    "\n",
    "    plt.imshow(test_x.reshape(image_size,image_size), cmap='binary')\n",
    "    plt.show()"
   ]
  }
 ],
 "metadata": {
  "kernelspec": {
   "display_name": "Python 3",
   "language": "python",
   "name": "python3"
  },
  "language_info": {
   "codemirror_mode": {
    "name": "ipython",
    "version": 3
   },
   "file_extension": ".py",
   "mimetype": "text/x-python",
   "name": "python",
   "nbconvert_exporter": "python",
   "pygments_lexer": "ipython3",
   "version": "3.5.2"
  }
 },
 "nbformat": 4,
 "nbformat_minor": 2
}
