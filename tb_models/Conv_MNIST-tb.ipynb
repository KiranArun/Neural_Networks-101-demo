{
 "cells": [
  {
   "cell_type": "markdown",
   "metadata": {},
   "source": [
    "# MNIST Handwriten Digits Classifier"
   ]
  },
  {
   "cell_type": "code",
   "execution_count": 1,
   "metadata": {},
   "outputs": [
    {
     "name": "stderr",
     "output_type": "stream",
     "text": [
      "/usr/local/lib/python2.7/dist-packages/h5py/__init__.py:36: FutureWarning: Conversion of the second argument of issubdtype from `float` to `np.floating` is deprecated. In future, it will be treated as `np.float64 == np.dtype(float).type`.\n",
      "  from ._conv import register_converters as _register_converters\n"
     ]
    }
   ],
   "source": [
    "import tensorflow as tf\n",
    "import numpy as np\n",
    "import matplotlib.pyplot as plt\n",
    "import os"
   ]
  },
  {
   "cell_type": "code",
   "execution_count": 2,
   "metadata": {},
   "outputs": [],
   "source": [
    "model_root_dir = '/notebooks/my-notebooks/MNIST/'\n",
    "model_logdir = model_root_dir+'logdir/'"
   ]
  },
  {
   "cell_type": "code",
   "execution_count": 3,
   "metadata": {},
   "outputs": [
    {
     "name": "stdout",
     "output_type": "stream",
     "text": [
      "Extracting /notebooks/my-notebooks/MNIST/MNIST_data/train-images-idx3-ubyte.gz\n",
      "Extracting /notebooks/my-notebooks/MNIST/MNIST_data/train-labels-idx1-ubyte.gz\n",
      "Extracting /notebooks/my-notebooks/MNIST/MNIST_data/t10k-images-idx3-ubyte.gz\n",
      "Extracting /notebooks/my-notebooks/MNIST/MNIST_data/t10k-labels-idx1-ubyte.gz\n"
     ]
    }
   ],
   "source": [
    "from tensorflow.examples.tutorials.mnist import input_data\n",
    "mnist = input_data.read_data_sets(model_root_dir+'MNIST_data', one_hot=True)"
   ]
  },
  {
   "cell_type": "code",
   "execution_count": 4,
   "metadata": {},
   "outputs": [],
   "source": [
    "def conv_pool_layer(inputs, filters=32, kernal_size=[5,5], name='conv'):\n",
    "    \n",
    "    with tf.name_scope(name):\n",
    "        \n",
    "        conv = tf.layers.conv2d(inputs=inputs,\n",
    "                                 filters=filters,\n",
    "                                 kernel_size=kernal_size,\n",
    "                                 padding=\"same\",\n",
    "                                 activation=tf.nn.relu)\n",
    "\n",
    "        pool = tf.layers.max_pooling2d(inputs=conv, pool_size=[2, 2], strides=2)\n",
    "\n",
    "        return(pool)"
   ]
  },
  {
   "cell_type": "code",
   "execution_count": 5,
   "metadata": {},
   "outputs": [],
   "source": [
    "def fc(inputs, units, activation=None, name='fc'):\n",
    "    \n",
    "    with tf.name_scope(name):\n",
    "        \n",
    "        dense = tf.layers.dense(inputs=inputs, units=units, activation=activation)\n",
    "        return(dense)"
   ]
  },
  {
   "cell_type": "code",
   "execution_count": 6,
   "metadata": {},
   "outputs": [],
   "source": [
    "def plot(data, heading=None, figsize=None):\n",
    "    fig, ax = plt.subplots(figsize=figsize)\n",
    "    ax.plot(data)\n",
    "    ax.grid(True)\n",
    "    ax.set_title(heading)"
   ]
  },
  {
   "cell_type": "code",
   "execution_count": 7,
   "metadata": {},
   "outputs": [],
   "source": [
    "def conv_model(data, dropout):\n",
    "    \n",
    "    X_image = tf.reshape(data, [-1,image_size,image_size,1])\n",
    "    \n",
    "    conv1 = conv_pool_layer(inputs=X_image, filters=32, name='conv1')\n",
    "    conv2 = conv_pool_layer(inputs=conv1, filters=64, name='conv2')\n",
    "    \n",
    "    conv2_flat = tf.reshape(conv2, [-1, 7 * 7 * 64])\n",
    "    \n",
    "    fc1 = fc(inputs=conv2_flat, units=1024, activation=tf.nn.relu, name='fc1')\n",
    "    dropout_fc1 = tf.layers.dropout(inputs=fc1, rate=dropout)\n",
    "    \n",
    "    logits = fc(inputs=dropout_fc1, units=10, name='output')\n",
    "    \n",
    "    return(logits, dropout_fc1)"
   ]
  },
  {
   "cell_type": "code",
   "execution_count": 8,
   "metadata": {},
   "outputs": [],
   "source": [
    "image_size = 28\n",
    "num_classes = 10\n",
    "\n",
    "LABELS = os.path.join(os.getcwd(), \"labels_1024.tsv\")\n",
    "SPRITES = os.path.join(os.getcwd(), \"sprite_1024.png\")\n",
    "\n",
    "batch_size = 100\n",
    "learning_rate = 0.1\n",
    "iterations = 1001"
   ]
  },
  {
   "cell_type": "code",
   "execution_count": 9,
   "metadata": {},
   "outputs": [],
   "source": [
    "hparam_str = 'c2,fc2,lr_%f' % (learning_rate)\n",
    "previous_runs = list(f for f in os.listdir(model_logdir) if f.startswith('run'))\n",
    "\n",
    "if len(previous_runs) == 0:\n",
    "    run_number = 1  \n",
    "else:\n",
    "    run_number = max([int(s[4:6]) for s in previous_runs]) + 1\n",
    "\n",
    "LOGDIR = '%srun_%02d,' % (model_logdir, run_number)+hparam_str"
   ]
  },
  {
   "cell_type": "code",
   "execution_count": 10,
   "metadata": {},
   "outputs": [],
   "source": [
    "tf.reset_default_graph()"
   ]
  },
  {
   "cell_type": "code",
   "execution_count": 11,
   "metadata": {},
   "outputs": [],
   "source": [
    "X_placeholder = tf.placeholder(shape=[None, image_size**2], dtype=tf.float32, name='X_placeholder')\n",
    "Y_placeholder = tf.placeholder(shape=[None, num_classes], dtype=tf.int64, name='Y_placeholder')\n",
    "\n",
    "dropout_placeholder = tf.placeholder_with_default(input=1.0, shape=[], name='dropout_placeholder')\n",
    "\n",
    "X_image = tf.reshape(X_placeholder, shape=[-1,28,28, 1])\n",
    "tf.summary.image('input', X_image, 3)\n",
    "\n",
    "Y_prediction, embedding_input = conv_model(X_placeholder, dropout_placeholder)\n",
    "\n",
    "embedding_size = 1024\n",
    "\n",
    "with tf.name_scope('loss'):\n",
    "    loss = tf.reduce_mean(tf.nn.softmax_cross_entropy_with_logits_v2(labels=Y_placeholder, logits=Y_prediction, name='loss'))\n",
    "    tf.summary.scalar('loss', loss)\n",
    "    \n",
    "with tf.name_scope('accuracy'):\n",
    "    correct_prediction = tf.equal(tf.argmax(Y_prediction, 1), tf.argmax(Y_placeholder, 1))\n",
    "    accuracy = tf.reduce_mean(tf.cast(correct_prediction, tf.float32))\n",
    "    tf.summary.scalar('accuracy', accuracy)\n",
    "\n",
    "with tf.name_scope('train'):\n",
    "    train_step = tf.train.GradientDescentOptimizer(learning_rate).minimize(loss)"
   ]
  },
  {
   "cell_type": "code",
   "execution_count": 12,
   "metadata": {},
   "outputs": [],
   "source": [
    "summ = tf.summary.merge_all()\n",
    "\n",
    "embedding = tf.Variable(tf.zeros([1024, embedding_size]), name=\"test_embedding\")\n",
    "assignment = embedding.assign(embedding_input)\n",
    "\n",
    "sess = tf.InteractiveSession()\n",
    "saver = tf.train.Saver()\n",
    "sess.run(tf.global_variables_initializer())\n",
    "\n",
    "writer = tf.summary.FileWriter(LOGDIR)\n",
    "writer.add_graph(sess.graph)\n",
    "\n",
    "config = tf.contrib.tensorboard.plugins.projector.ProjectorConfig()\n",
    "embedding_config = config.embeddings.add()\n",
    "embedding_config.tensor_name = embedding.name\n",
    "embedding_config.sprite.image_path = SPRITES\n",
    "embedding_config.metadata_path = LABELS\n",
    "embedding_config.sprite.single_image_dim.extend([image_size, image_size])\n",
    "tf.contrib.tensorboard.plugins.projector.visualize_embeddings(writer, config)"
   ]
  },
  {
   "cell_type": "code",
   "execution_count": 13,
   "metadata": {},
   "outputs": [
    {
     "name": "stdout",
     "output_type": "stream",
     "text": [
      "step 0 loss 2.2908611 accuracy 9.92%\n",
      "step 50 loss 0.47318298 accuracy 88.16%\n",
      "step 100 loss 0.2625376 accuracy 92.72%\n",
      "step 150 loss 0.1588922 accuracy 94.52%\n",
      "step 200 loss 0.07400411 accuracy 96.5%\n",
      "step 250 loss 0.090715 accuracy 96.64%\n",
      "step 300 loss 0.08278704 accuracy 97.0%\n",
      "step 350 loss 0.09874865 accuracy 97.58%\n",
      "step 400 loss 0.09983973 accuracy 97.54%\n",
      "step 450 loss 0.08245747 accuracy 97.78%\n",
      "step 500 loss 0.07655444 accuracy 98.1%\n",
      "step 550 loss 0.04308767 accuracy 98.16%\n",
      "step 600 loss 0.028922252 accuracy 97.84%\n",
      "step 650 loss 0.04364989 accuracy 98.18%\n",
      "step 700 loss 0.102858745 accuracy 98.42%\n",
      "step 750 loss 0.023483133 accuracy 98.38%\n",
      "step 800 loss 0.058277745 accuracy 97.78%\n",
      "step 850 loss 0.031283602 accuracy 98.5%\n",
      "step 900 loss 0.112316206 accuracy 98.4%\n",
      "step 950 loss 0.009488374 accuracy 98.66%\n",
      "step 1000 loss 0.0400127 accuracy 98.68%\n"
     ]
    },
    {
     "data": {
      "image/png": "[encoded data removed]",
      "text/plain": [
       "<matplotlib.figure.Figure at 0x7f6458b83250>"
      ]
     },
     "metadata": {},
     "output_type": "display_data"
    }
   ],
   "source": [
    "losses = np.array([])\n",
    "\n",
    "for idx in range(iterations):\n",
    "            \n",
    "    batch_xs, batch_ys = mnist.train.next_batch(batch_size, shuffle=True)\n",
    "    \n",
    "    _, _loss, _summary = sess.run([train_step, loss, summ], \n",
    "                                  feed_dict={\n",
    "                                      X_placeholder: batch_xs,\n",
    "                                      Y_placeholder: batch_ys,\n",
    "                                      dropout_placeholder : 0.4\n",
    "                                  })\n",
    "\n",
    "    if idx % (iterations/20) == 0:\n",
    "\n",
    "        _accuracy = sess.run(accuracy, feed_dict={X_placeholder : mnist.validation.images,\n",
    "                                                  Y_placeholder : mnist.validation.labels,\n",
    "                                                  dropout_placeholder : 1.0\n",
    "                                                 })\n",
    "\n",
    "        print 'step', idx, 'loss', np.mean(_loss), 'accuracy', str(round(100*_accuracy,2))+'%'\n",
    "        \n",
    "    if idx % 20 == 0:\n",
    "        writer.add_summary(_summary, idx)\n",
    "        \n",
    "    if idx % 500 == 0:\n",
    "        sess.run(assignment, feed_dict={X_placeholder: mnist.test.images[:1024], Y_placeholder: mnist.test.labels[:1024]})\n",
    "        saver.save(sess, os.path.join(LOGDIR, \"model.ckpt\"), idx)\n",
    "        \n",
    "    losses = np.append(losses, np.mean(_loss))\n",
    "\n",
    "plot(data=losses, heading='training loss')"
   ]
  },
  {
   "cell_type": "code",
   "execution_count": 14,
   "metadata": {},
   "outputs": [
    {
     "name": "stdout",
     "output_type": "stream",
     "text": [
      "98.41%\n"
     ]
    }
   ],
   "source": [
    "_accuracy = sess.run(accuracy, feed_dict={X_placeholder : mnist.test.images,\n",
    "                                          Y_placeholder : mnist.test.labels,\n",
    "                                          dropout_placeholder : 1.0\n",
    "                                         })\n",
    "\n",
    "print str(round(100*_accuracy,2))+'%'"
   ]
  },
  {
   "cell_type": "code",
   "execution_count": null,
   "metadata": {},
   "outputs": [],
   "source": []
  }
 ],
 "metadata": {
  "kernelspec": {
   "display_name": "Python 2",
   "language": "python",
   "name": "python2"
  },
  "language_info": {
   "codemirror_mode": {
    "name": "ipython",
    "version": 2
   },
   "file_extension": ".py",
   "mimetype": "text/x-python",
   "name": "python",
   "nbconvert_exporter": "python",
   "pygments_lexer": "ipython2",
   "version": "2.7.12"
  }
 },
 "nbformat": 4,
 "nbformat_minor": 2
}
