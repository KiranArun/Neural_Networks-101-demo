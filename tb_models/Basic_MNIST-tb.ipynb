{
 "cells": [
  {
   "cell_type": "markdown",
   "metadata": {},
   "source": [
    "# MNIST Handwriten Digits Classifier"
   ]
  },
  {
   "cell_type": "code",
   "execution_count": 17,
   "metadata": {},
   "outputs": [],
   "source": [
    "import tensorflow as tf\n",
    "import numpy as np\n",
    "import matplotlib.pyplot as plt\n",
    "import os"
   ]
  },
  {
   "cell_type": "code",
   "execution_count": 2,
   "metadata": {},
   "outputs": [
    {
     "name": "stdout",
     "output_type": "stream",
     "text": [
      "Extracting /notebooks/my-notebooks/MNIST/MNIST_data/train-images-idx3-ubyte.gz\n",
      "Extracting /notebooks/my-notebooks/MNIST/MNIST_data/train-labels-idx1-ubyte.gz\n",
      "Extracting /notebooks/my-notebooks/MNIST/MNIST_data/t10k-images-idx3-ubyte.gz\n",
      "Extracting /notebooks/my-notebooks/MNIST/MNIST_data/t10k-labels-idx1-ubyte.gz\n"
     ]
    }
   ],
   "source": [
    "model_root_dir = '/notebooks/my-notebooks/MNIST/'\n",
    "\n",
    "from tensorflow.examples.tutorials.mnist import input_data\n",
    "mnist = input_data.read_data_sets(model_root_dir+'MNIST_data', one_hot=True)"
   ]
  },
  {
   "cell_type": "code",
   "execution_count": 3,
   "metadata": {},
   "outputs": [],
   "source": [
    "image_size = 28\n",
    "num_classes = 10\n",
    "embedding_size = 10"
   ]
  },
  {
   "cell_type": "code",
   "execution_count": 4,
   "metadata": {},
   "outputs": [],
   "source": [
    "batch_size = 100\n",
    "learning_rate = 0.5\n",
    "\n",
    "epochs = 2\n",
    "iterations = mnist.train.num_examples//batch_size"
   ]
  },
  {
   "cell_type": "code",
   "execution_count": 5,
   "metadata": {},
   "outputs": [],
   "source": [
    "model_logdir = model_root_dir+'logdir/'\n",
    "\n",
    "LABELS = os.path.join(os.getcwd(), model_logdir+\"labels_1024.tsv\")\n",
    "SPRITES = os.path.join(os.getcwd(), model_logdir+\"sprite_1024.png\")\n",
    "\n",
    "hparam_str = 'fc1,lr_%f' % (learning_rate)\n",
    "previous_runs = list(f for f in os.listdir(model_logdir) if f.startswith('run'))\n",
    "\n",
    "if len(previous_runs) == 0:\n",
    "    run_number = 1  \n",
    "else:\n",
    "    run_number = max([int(s[4:6]) for s in previous_runs]) + 1\n",
    "\n",
    "LOGDIR = '%srun_%02d,' % (model_logdir, run_number)+hparam_str"
   ]
  },
  {
   "cell_type": "code",
   "execution_count": 6,
   "metadata": {},
   "outputs": [],
   "source": [
    "tf.reset_default_graph()"
   ]
  },
  {
   "cell_type": "code",
   "execution_count": 7,
   "metadata": {},
   "outputs": [],
   "source": [
    "with tf.name_scope('input'):\n",
    "    X_placeholder = tf.placeholder(shape=[None, image_size**2], dtype=tf.float32, name='X_placeholder')\n",
    "    Y_placeholder = tf.placeholder(shape=[None, num_classes], dtype=tf.int64, name='Y_placeholder')\n",
    "\n",
    "with tf.name_scope('input_reshaped'):\n",
    "    X_image = tf.reshape(X_placeholder, shape=[-1,image_size,image_size, 1])\n",
    "    tf.summary.image('input', X_image, 3)"
   ]
  },
  {
   "cell_type": "code",
   "execution_count": 8,
   "metadata": {},
   "outputs": [],
   "source": [
    "def variable_summaries(var):\n",
    "    with tf.name_scope('summaries'):\n",
    "        mean = tf.reduce_mean(var)\n",
    "        tf.summary.scalar('mean', mean)\n",
    "        stddev = tf.sqrt(tf.reduce_mean(tf.square(var - mean)))\n",
    "        tf.summary.scalar('stddev', stddev)\n",
    "        tf.summary.scalar('max', tf.reduce_max(var))\n",
    "        tf.summary.scalar('min', tf.reduce_min(var))\n",
    "        tf.summary.histogram('histogram', var)"
   ]
  },
  {
   "cell_type": "code",
   "execution_count": 9,
   "metadata": {},
   "outputs": [],
   "source": [
    "with tf.name_scope('output_layer'):\n",
    "    \n",
    "    with tf.name_scope('Weights'):\n",
    "        W = tf.Variable(tf.zeros(shape=[image_size**2, num_classes]), dtype=tf.float32, name='W')\n",
    "        variable_summaries(W)\n",
    "        \n",
    "        with tf.name_scope('visualize_weights'):\n",
    "            W_image = tf.reshape(tf.transpose(W,perm=[1,0]),[-1,image_size,image_size,1])\n",
    "            tf.summary.image(\"visualize_weights\", W_image, max_outputs=num_classes)\n",
    "        \n",
    "    with tf.name_scope('biases'):\n",
    "        b = tf.Variable(tf.constant(0.1,shape=[num_classes]), dtype=tf.float32, name='b')\n",
    "        variable_summaries(b)\n",
    "        \n",
    "    with tf.name_scope('predictions'):\n",
    "        Y_predictions = tf.matmul(X_placeholder, W) + b\n",
    "        \n",
    "    embedding_input = Y_predictions"
   ]
  },
  {
   "cell_type": "code",
   "execution_count": 10,
   "metadata": {},
   "outputs": [],
   "source": [
    "with tf.name_scope('loss'):\n",
    "    cross_entropy = tf.nn.softmax_cross_entropy_with_logits_v2(labels=Y_placeholder,\n",
    "                                                               logits=Y_predictions,\n",
    "                                                               name='cross_entropy')\n",
    "    \n",
    "    loss = tf.reduce_mean(cross_entropy)\n",
    "    tf.summary.scalar('loss', loss)\n",
    "\n",
    "with tf.name_scope('train'):\n",
    "    train_step = tf.train.GradientDescentOptimizer(learning_rate).minimize(loss)"
   ]
  },
  {
   "cell_type": "code",
   "execution_count": 11,
   "metadata": {},
   "outputs": [],
   "source": [
    "with tf.name_scope('accuracy'):\n",
    "    with tf.name_scope('correct_predictions'):\n",
    "        correct_prediction = tf.equal(tf.argmax(Y_predictions, 1), tf.argmax(Y_placeholder, 1))\n",
    "    accuracy = tf.reduce_mean(tf.cast(correct_prediction, tf.float32))\n",
    "    tf.summary.scalar('accuracy', accuracy)"
   ]
  },
  {
   "cell_type": "code",
   "execution_count": 12,
   "metadata": {},
   "outputs": [],
   "source": [
    "sess = tf.InteractiveSession()"
   ]
  },
  {
   "cell_type": "code",
   "execution_count": 13,
   "metadata": {},
   "outputs": [],
   "source": [
    "summ = tf.summary.merge_all()\n",
    "\n",
    "embedding = tf.Variable(tf.zeros([1024, embedding_size]), name=\"embedding\")\n",
    "assignment = embedding.assign(embedding_input)\n",
    "\n",
    "saver = tf.train.Saver()\n",
    "sess.run(tf.global_variables_initializer())\n",
    "\n",
    "writer = tf.summary.FileWriter(LOGDIR)\n",
    "writer.add_graph(sess.graph)\n",
    "\n",
    "config = tf.contrib.tensorboard.plugins.projector.ProjectorConfig()\n",
    "embedding_config = config.embeddings.add()\n",
    "embedding_config.tensor_name = embedding.name\n",
    "embedding_config.sprite.image_path = SPRITES\n",
    "embedding_config.metadata_path = LABELS\n",
    "embedding_config.sprite.single_image_dim.extend([image_size, image_size])\n",
    "tf.contrib.tensorboard.plugins.projector.visualize_embeddings(writer, config)"
   ]
  },
  {
   "cell_type": "code",
   "execution_count": 14,
   "metadata": {},
   "outputs": [
    {
     "name": "stdout",
     "output_type": "stream",
     "text": [
      "New epoch 1/2\n",
      "step 110/550 loss 0.40566215 accuracy 89.38%\n",
      "step 220/550 loss 0.28180215 accuracy 90.64%\n",
      "step 330/550 loss 0.31347954 accuracy 91.28%\n",
      "step 440/550 loss 0.23307744 accuracy 91.46%\n",
      "step 550/550 loss 0.36614305 accuracy 91.54%\n",
      "New epoch 2/2\n",
      "step 110/550 loss 0.29807568 accuracy 91.94%\n",
      "step 220/550 loss 0.31395146 accuracy 91.72%\n",
      "step 330/550 loss 0.20987266 accuracy 91.6%\n",
      "step 440/550 loss 0.32553372 accuracy 92.4%\n",
      "step 550/550 loss 0.31525636 accuracy 92.1%\n"
     ]
    }
   ],
   "source": [
    "losses = np.array([])\n",
    "\n",
    "for epoch in range(epochs):\n",
    "    \n",
    "    print('New epoch', str(epoch+1)+'/'+str(epochs))\n",
    "\n",
    "    for idx in range(iterations):\n",
    "\n",
    "        batch_xs, batch_ys = mnist.train.next_batch(batch_size, shuffle=True)\n",
    "\n",
    "        _, _loss, _summary = sess.run([train_step, loss, summ], \n",
    "                            feed_dict={\n",
    "                                X_placeholder: batch_xs,\n",
    "                                Y_placeholder: batch_ys\n",
    "                            })\n",
    "\n",
    "        if (idx+1) % (iterations/5) == 0:\n",
    "\n",
    "            _accuracy = sess.run(accuracy, feed_dict={X_placeholder : mnist.validation.images,\n",
    "                                                      Y_placeholder : mnist.validation.labels\n",
    "                                                     })\n",
    "\n",
    "            print('step', str(idx+1)+'/'+str(iterations), 'loss', _loss, 'accuracy', str(round(100*_accuracy,2))+'%')\n",
    "\n",
    "        if idx % 10 == 0:\n",
    "            writer.add_summary(_summary, (epoch*iterations)+idx)\n",
    "            \n",
    "        losses = np.append(losses, _loss)\n",
    "\n",
    "    sess.run(assignment, feed_dict={X_placeholder: mnist.test.images[:1024], Y_placeholder: mnist.test.labels[:1024]})\n",
    "    saver.save(sess, os.path.join(LOGDIR, \"model.ckpt\"), (epoch*iterations)+idx)"
   ]
  },
  {
   "cell_type": "code",
   "execution_count": 15,
   "metadata": {},
   "outputs": [
    {
     "data": {
      "image/png": "[encoded data removed]",
      "text/plain": [
       "<matplotlib.figure.Figure at 0x7f9fadfd97f0>"
      ]
     },
     "metadata": {},
     "output_type": "display_data"
    }
   ],
   "source": [
    "fig, ax = plt.subplots(figsize=(10,6))\n",
    "ax.plot(losses)\n",
    "ax.grid(True)"
   ]
  },
  {
   "cell_type": "code",
   "execution_count": 16,
   "metadata": {},
   "outputs": [
    {
     "name": "stdout",
     "output_type": "stream",
     "text": [
      "92.0%\n"
     ]
    }
   ],
   "source": [
    "_accuracy = sess.run(accuracy, feed_dict={X_placeholder : mnist.test.images,\n",
    "                                          Y_placeholder : mnist.test.labels\n",
    "                                         })\n",
    "\n",
    "print(str(round(100*_accuracy,2))+'%')"
   ]
  }
 ],
 "metadata": {
  "kernelspec": {
   "display_name": "Python 3",
   "language": "python",
   "name": "python3"
  },
  "language_info": {
   "codemirror_mode": {
    "name": "ipython",
    "version": 3
   },
   "file_extension": ".py",
   "mimetype": "text/x-python",
   "name": "python",
   "nbconvert_exporter": "python",
   "pygments_lexer": "ipython3",
   "version": "3.5.2"
  }
 },
 "nbformat": 4,
 "nbformat_minor": 2
}
