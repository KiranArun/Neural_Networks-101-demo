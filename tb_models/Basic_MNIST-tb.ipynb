{
 "cells": [
  {
   "cell_type": "markdown",
   "metadata": {},
   "source": [
    "# MNIST Handwriten Digits Classifier"
   ]
  },
  {
   "cell_type": "code",
   "execution_count": 1,
   "metadata": {},
   "outputs": [
    {
     "name": "stderr",
     "output_type": "stream",
     "text": [
      "/usr/local/lib/python2.7/dist-packages/h5py/__init__.py:36: FutureWarning: Conversion of the second argument of issubdtype from `float` to `np.floating` is deprecated. In future, it will be treated as `np.float64 == np.dtype(float).type`.\n",
      "  from ._conv import register_converters as _register_converters\n"
     ]
    }
   ],
   "source": [
    "import tensorflow as tf\n",
    "import numpy as np\n",
    "import matplotlib.pyplot as plt\n",
    "import os"
   ]
  },
  {
   "cell_type": "code",
   "execution_count": 2,
   "metadata": {},
   "outputs": [],
   "source": [
    "model_root_dir = '/notebooks/my-notebooks/MNIST/'\n",
    "model_logdir = model_root_dir+'logdir/'"
   ]
  },
  {
   "cell_type": "code",
   "execution_count": 3,
   "metadata": {},
   "outputs": [
    {
     "name": "stdout",
     "output_type": "stream",
     "text": [
      "Extracting /notebooks/my-notebooks/MNIST/MNIST_data/train-images-idx3-ubyte.gz\n",
      "Extracting /notebooks/my-notebooks/MNIST/MNIST_data/train-labels-idx1-ubyte.gz\n",
      "Extracting /notebooks/my-notebooks/MNIST/MNIST_data/t10k-images-idx3-ubyte.gz\n",
      "Extracting /notebooks/my-notebooks/MNIST/MNIST_data/t10k-labels-idx1-ubyte.gz\n"
     ]
    }
   ],
   "source": [
    "from tensorflow.examples.tutorials.mnist import input_data\n",
    "mnist = input_data.read_data_sets(model_root_dir+'MNIST_data', one_hot=True)"
   ]
  },
  {
   "cell_type": "code",
   "execution_count": 4,
   "metadata": {},
   "outputs": [],
   "source": [
    "image_size = 28\n",
    "num_classes = 10\n",
    "\n",
    "LABELS = os.path.join(os.getcwd(), model_logdir+\"labels_1024.tsv\")\n",
    "SPRITES = os.path.join(os.getcwd(), model_logdir+\"sprite_1024.png\")"
   ]
  },
  {
   "cell_type": "code",
   "execution_count": 5,
   "metadata": {},
   "outputs": [],
   "source": [
    "batch_size = 100\n",
    "learning_rate = 0.5\n",
    "iterations = 1001"
   ]
  },
  {
   "cell_type": "code",
   "execution_count": 6,
   "metadata": {},
   "outputs": [],
   "source": [
    "hparam_str = 'fc1,lr_%f' % (learning_rate)\n",
    "previous_runs = list(f for f in os.listdir(model_logdir) if f.startswith('run'))\n",
    "\n",
    "if len(previous_runs) == 0:\n",
    "    run_number = 1  \n",
    "else:\n",
    "    run_number = max([int(s[4:6]) for s in previous_runs]) + 1\n",
    "\n",
    "LOGDIR = '%srun_%02d,' % (model_logdir, run_number)+hparam_str"
   ]
  },
  {
   "cell_type": "code",
   "execution_count": 7,
   "metadata": {},
   "outputs": [],
   "source": [
    "tf.reset_default_graph()\n",
    "sess = tf.InteractiveSession()"
   ]
  },
  {
   "cell_type": "code",
   "execution_count": 8,
   "metadata": {},
   "outputs": [
    {
     "data": {
      "text/plain": [
       "<tf.Tensor 'input:0' shape=() dtype=string>"
      ]
     },
     "execution_count": 8,
     "metadata": {},
     "output_type": "execute_result"
    }
   ],
   "source": [
    "X_placeholder = tf.placeholder(shape=[None, image_size**2], dtype=tf.float32, name='X_placeholder')\n",
    "Y_placeholder = tf.placeholder(shape=[None, num_classes], dtype=tf.int64, name='Y_placeholder')\n",
    "\n",
    "X_image = tf.reshape(X_placeholder, shape=[-1,28,28, 1])\n",
    "tf.summary.image('input', X_image, 3)"
   ]
  },
  {
   "cell_type": "code",
   "execution_count": 9,
   "metadata": {},
   "outputs": [],
   "source": [
    "with tf.name_scope('layer_1'):\n",
    "\n",
    "    W = tf.Variable(np.zeros([image_size**2, num_classes]), dtype=tf.float32, name='W')\n",
    "    b = tf.Variable(np.ones(shape=[num_classes]), dtype=tf.float32, name='b')\n",
    "\n",
    "    tf.summary.histogram('Weights', W)\n",
    "    tf.summary.histogram('bias', b)"
   ]
  },
  {
   "cell_type": "code",
   "execution_count": 10,
   "metadata": {},
   "outputs": [],
   "source": [
    "with tf.name_scope('predictions'):\n",
    "\n",
    "    Y_prediction = tf.matmul(X_placeholder, W) + b\n",
    "    \n",
    "    tf.summary.histogram('Predictions', Y_prediction)\n",
    "    \n",
    "    embedding_input = Y_prediction\n",
    "    \n",
    "    embedding_size = num_classes"
   ]
  },
  {
   "cell_type": "code",
   "execution_count": 11,
   "metadata": {},
   "outputs": [],
   "source": [
    "with tf.name_scope('loss'):\n",
    "\n",
    "    loss = tf.reduce_mean(tf.nn.softmax_cross_entropy_with_logits_v2(labels=Y_placeholder, logits=Y_prediction, name='loss'))\n",
    "\n",
    "    tf.summary.scalar('loss', loss)\n",
    "\n",
    "with tf.name_scope('train'):\n",
    "\n",
    "    train_step = tf.train.GradientDescentOptimizer(learning_rate).minimize(loss)"
   ]
  },
  {
   "cell_type": "code",
   "execution_count": 12,
   "metadata": {},
   "outputs": [],
   "source": [
    "with tf.name_scope('accuracy'):\n",
    "    \n",
    "    correct_prediction = tf.equal(tf.argmax(Y_prediction, 1), tf.argmax(Y_placeholder, 1))\n",
    "    accuracy = tf.reduce_mean(tf.cast(correct_prediction, tf.float32))\n",
    "    \n",
    "    tf.summary.scalar('accuracy', accuracy)"
   ]
  },
  {
   "cell_type": "code",
   "execution_count": 13,
   "metadata": {},
   "outputs": [],
   "source": [
    "summ = tf.summary.merge_all()\n",
    "\n",
    "embedding = tf.Variable(tf.zeros([1024, embedding_size]), name=\"test_embedding\")\n",
    "assignment = embedding.assign(embedding_input)\n",
    "\n",
    "saver = tf.train.Saver()\n",
    "sess.run(tf.global_variables_initializer())\n",
    "\n",
    "writer = tf.summary.FileWriter(LOGDIR)\n",
    "writer.add_graph(sess.graph)\n",
    "\n",
    "config = tf.contrib.tensorboard.plugins.projector.ProjectorConfig()\n",
    "embedding_config = config.embeddings.add()\n",
    "embedding_config.tensor_name = embedding.name\n",
    "embedding_config.sprite.image_path = SPRITES\n",
    "embedding_config.metadata_path = LABELS\n",
    "embedding_config.sprite.single_image_dim.extend([image_size, image_size])\n",
    "tf.contrib.tensorboard.plugins.projector.visualize_embeddings(writer, config)"
   ]
  },
  {
   "cell_type": "code",
   "execution_count": 14,
   "metadata": {},
   "outputs": [
    {
     "name": "stdout",
     "output_type": "stream",
     "text": [
      "step 0 loss 2.3025851 accuracy 53.36%\n",
      "step 50 loss 0.46202508 accuracy 87.9%\n",
      "step 100 loss 0.39401966 accuracy 89.76%\n",
      "step 150 loss 0.45707196 accuracy 90.04%\n",
      "step 200 loss 0.45958462 accuracy 90.74%\n",
      "step 250 loss 0.25583693 accuracy 90.96%\n",
      "step 300 loss 0.31530276 accuracy 91.32%\n",
      "step 350 loss 0.32266328 accuracy 91.16%\n",
      "step 400 loss 0.26008263 accuracy 91.38%\n",
      "step 450 loss 0.3954101 accuracy 91.56%\n",
      "step 500 loss 0.37410873 accuracy 91.2%\n",
      "step 550 loss 0.35309425 accuracy 91.86%\n",
      "step 600 loss 0.19518854 accuracy 91.8%\n",
      "step 650 loss 0.19663091 accuracy 91.72%\n",
      "step 700 loss 0.34702012 accuracy 91.7%\n",
      "step 750 loss 0.22632591 accuracy 91.66%\n",
      "step 800 loss 0.288632 accuracy 91.84%\n",
      "step 850 loss 0.33109555 accuracy 91.8%\n",
      "step 900 loss 0.22720376 accuracy 91.88%\n",
      "step 950 loss 0.41298208 accuracy 91.88%\n",
      "step 1000 loss 0.29678628 accuracy 91.98%\n"
     ]
    }
   ],
   "source": [
    "losses = np.array([])\n",
    "\n",
    "for idx in range(iterations):\n",
    "    \n",
    "    batch_xs, batch_ys = mnist.train.next_batch(batch_size, shuffle=True)\n",
    "    \n",
    "    _, _loss, _summary = sess.run([train_step, loss, summ], \n",
    "                        feed_dict={\n",
    "                            X_placeholder: batch_xs,\n",
    "                            Y_placeholder: batch_ys\n",
    "                        })\n",
    "    \n",
    "    if idx % (iterations/20) == 0:\n",
    "\n",
    "        _accuracy = sess.run(accuracy, feed_dict={X_placeholder : mnist.validation.images,\n",
    "                                                  Y_placeholder : mnist.validation.labels\n",
    "                                                 })\n",
    "        \n",
    "        print 'step', idx, 'loss', np.mean(_loss), 'accuracy', str(round(100*_accuracy,2))+'%'\n",
    "    \n",
    "    if idx % 20 == 0:\n",
    "        writer.add_summary(_summary, idx)\n",
    "        \n",
    "    if idx % 500 == 0:\n",
    "        sess.run(assignment, feed_dict={X_placeholder: mnist.test.images[:1024], Y_placeholder: mnist.test.labels[:1024]})\n",
    "        saver.save(sess, os.path.join(LOGDIR, \"model.ckpt\"), idx)\n",
    "        \n",
    "    losses = np.append(losses, np.mean(_loss))\n",
    "    "
   ]
  },
  {
   "cell_type": "code",
   "execution_count": 15,
   "metadata": {},
   "outputs": [
    {
     "data": {
      "image/png": "[encoded data removed]",
      "text/plain": [
       "<matplotlib.figure.Figure at 0x7fbe50466090>"
      ]
     },
     "metadata": {},
     "output_type": "display_data"
    }
   ],
   "source": [
    "fig, ax = plt.subplots(figsize=(10,6))\n",
    "ax.plot(losses)\n",
    "ax.grid(True)"
   ]
  },
  {
   "cell_type": "code",
   "execution_count": 16,
   "metadata": {},
   "outputs": [
    {
     "name": "stdout",
     "output_type": "stream",
     "text": [
      "91.56%\n"
     ]
    }
   ],
   "source": [
    "_accuracy = sess.run(accuracy, feed_dict={X_placeholder : mnist.test.images,\n",
    "                                          Y_placeholder : mnist.test.labels\n",
    "                                         })\n",
    "\n",
    "print str(round(100*_accuracy,2))+'%'"
   ]
  }
 ],
 "metadata": {
  "kernelspec": {
   "display_name": "Python 2",
   "language": "python",
   "name": "python2"
  },
  "language_info": {
   "codemirror_mode": {
    "name": "ipython",
    "version": 2
   },
   "file_extension": ".py",
   "mimetype": "text/x-python",
   "name": "python",
   "nbconvert_exporter": "python",
   "pygments_lexer": "ipython2",
   "version": "2.7.12"
  }
 },
 "nbformat": 4,
 "nbformat_minor": 2
}
